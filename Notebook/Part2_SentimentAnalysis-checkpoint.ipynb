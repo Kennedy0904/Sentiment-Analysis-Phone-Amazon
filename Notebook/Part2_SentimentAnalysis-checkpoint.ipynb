{
 "cells": [
  {
   "cell_type": "markdown",
   "metadata": {},
   "source": [
    "# Sentiment Analysis of Mobile Phones in Amazon"
   ]
  },
  {
   "cell_type": "markdown",
   "metadata": {},
   "source": [
    "## Part 2: Sentiment Analysis"
   ]
  },
  {
   "cell_type": "markdown",
   "metadata": {},
   "source": [
    "#### Import library"
   ]
  },
  {
   "cell_type": "code",
   "execution_count": 295,
   "metadata": {},
   "outputs": [],
   "source": [
    "import pandas as pd\n",
    "import numpy as np\n",
    "import nltk\n",
    "from nltk.corpus import stopwords, wordnet\n",
    "from nltk.stem import WordNetLemmatizer\n",
    "from nltk.stem.snowball import SnowballStemmer\n",
    "from nltk.tokenize import word_tokenize\n",
    "from nltk.sentiment.vader import SentimentIntensityAnalyzer\n",
    "import string\n",
    "import re\n",
    "import matplotlib.pyplot as plt\n",
    "import seaborn as sns\n",
    "from sklearn.model_selection import train_test_split, cross_val_score\n",
    "from sklearn.linear_model import LogisticRegression\n",
    "from sklearn.feature_extraction.text import CountVectorizer\n",
    "from sklearn.metrics import accuracy_score, confusion_matrix, f1_score\n",
    "import itertools\n",
    "from xgboost import XGBClassifier\n",
    "from collections import Counter\n",
    "from wordcloud import WordCloud\n",
    "from nltk.util import ngrams\n",
    "from tqdm.notebook import tqdm"
   ]
  },
  {
   "cell_type": "markdown",
   "metadata": {},
   "source": [
    "#### Import dataset"
   ]
  },
  {
   "cell_type": "code",
   "execution_count": 204,
   "metadata": {},
   "outputs": [
    {
     "data": {
      "text/html": [
       "<div>\n",
       "<style scoped>\n",
       "    .dataframe tbody tr th:only-of-type {\n",
       "        vertical-align: middle;\n",
       "    }\n",
       "\n",
       "    .dataframe tbody tr th {\n",
       "        vertical-align: top;\n",
       "    }\n",
       "\n",
       "    .dataframe thead th {\n",
       "        text-align: right;\n",
       "    }\n",
       "</style>\n",
       "<table border=\"1\" class=\"dataframe\">\n",
       "  <thead>\n",
       "    <tr style=\"text-align: right;\">\n",
       "      <th></th>\n",
       "      <th>Product</th>\n",
       "      <th>Brand</th>\n",
       "      <th>Price</th>\n",
       "      <th>Rating</th>\n",
       "      <th>Reviews</th>\n",
       "      <th>ReviewVotes</th>\n",
       "    </tr>\n",
       "  </thead>\n",
       "  <tbody>\n",
       "    <tr>\n",
       "      <th>0</th>\n",
       "      <td>\"CLEAR CLEAN ESN\" Sprint EPIC 4G Galaxy SPH-D7...</td>\n",
       "      <td>Samsung</td>\n",
       "      <td>199.99</td>\n",
       "      <td>5</td>\n",
       "      <td>I feel so LUCKY to have found this used (phone...</td>\n",
       "      <td>1.0</td>\n",
       "    </tr>\n",
       "    <tr>\n",
       "      <th>1</th>\n",
       "      <td>\"CLEAR CLEAN ESN\" Sprint EPIC 4G Galaxy SPH-D7...</td>\n",
       "      <td>Samsung</td>\n",
       "      <td>199.99</td>\n",
       "      <td>4</td>\n",
       "      <td>nice phone, nice up grade from my pantach revu...</td>\n",
       "      <td>0.0</td>\n",
       "    </tr>\n",
       "    <tr>\n",
       "      <th>2</th>\n",
       "      <td>\"CLEAR CLEAN ESN\" Sprint EPIC 4G Galaxy SPH-D7...</td>\n",
       "      <td>Samsung</td>\n",
       "      <td>199.99</td>\n",
       "      <td>5</td>\n",
       "      <td>Very pleased</td>\n",
       "      <td>0.0</td>\n",
       "    </tr>\n",
       "    <tr>\n",
       "      <th>3</th>\n",
       "      <td>\"CLEAR CLEAN ESN\" Sprint EPIC 4G Galaxy SPH-D7...</td>\n",
       "      <td>Samsung</td>\n",
       "      <td>199.99</td>\n",
       "      <td>4</td>\n",
       "      <td>It works good but it goes slow sometimes but i...</td>\n",
       "      <td>0.0</td>\n",
       "    </tr>\n",
       "    <tr>\n",
       "      <th>4</th>\n",
       "      <td>\"CLEAR CLEAN ESN\" Sprint EPIC 4G Galaxy SPH-D7...</td>\n",
       "      <td>Samsung</td>\n",
       "      <td>199.99</td>\n",
       "      <td>4</td>\n",
       "      <td>Great phone to replace my lost phone. The only...</td>\n",
       "      <td>0.0</td>\n",
       "    </tr>\n",
       "    <tr>\n",
       "      <th>...</th>\n",
       "      <td>...</td>\n",
       "      <td>...</td>\n",
       "      <td>...</td>\n",
       "      <td>...</td>\n",
       "      <td>...</td>\n",
       "      <td>...</td>\n",
       "    </tr>\n",
       "    <tr>\n",
       "      <th>384270</th>\n",
       "      <td>ZTE V987 Android 4.1 MT6589 Quad Core 1.2GHz D...</td>\n",
       "      <td>ZTE</td>\n",
       "      <td>167.22</td>\n",
       "      <td>5</td>\n",
       "      <td>EXCELENTE</td>\n",
       "      <td>0.0</td>\n",
       "    </tr>\n",
       "    <tr>\n",
       "      <th>384271</th>\n",
       "      <td>ZTE V987 Android 4.1 MT6589 Quad Core 1.2GHz D...</td>\n",
       "      <td>ZTE</td>\n",
       "      <td>167.22</td>\n",
       "      <td>2</td>\n",
       "      <td>Not as expected so I returned this phone</td>\n",
       "      <td>0.0</td>\n",
       "    </tr>\n",
       "    <tr>\n",
       "      <th>384272</th>\n",
       "      <td>ZTE V987 Android 4.1 MT6589 Quad Core 1.2GHz D...</td>\n",
       "      <td>ZTE</td>\n",
       "      <td>167.22</td>\n",
       "      <td>5</td>\n",
       "      <td>very well</td>\n",
       "      <td>0.0</td>\n",
       "    </tr>\n",
       "    <tr>\n",
       "      <th>384273</th>\n",
       "      <td>ZTE V987 Android 4.1 MT6589 Quad Core 1.2GHz D...</td>\n",
       "      <td>ZTE</td>\n",
       "      <td>167.22</td>\n",
       "      <td>5</td>\n",
       "      <td>excelente</td>\n",
       "      <td>0.0</td>\n",
       "    </tr>\n",
       "    <tr>\n",
       "      <th>384274</th>\n",
       "      <td>ZTE V987 Android 4.1 MT6589 Quad Core 1.2GHz D...</td>\n",
       "      <td>ZTE</td>\n",
       "      <td>167.22</td>\n",
       "      <td>5</td>\n",
       "      <td>great product! i loved!</td>\n",
       "      <td>0.0</td>\n",
       "    </tr>\n",
       "  </tbody>\n",
       "</table>\n",
       "<p>384275 rows × 6 columns</p>\n",
       "</div>"
      ],
      "text/plain": [
       "                                                  Product    Brand   Price  \\\n",
       "0       \"CLEAR CLEAN ESN\" Sprint EPIC 4G Galaxy SPH-D7...  Samsung  199.99   \n",
       "1       \"CLEAR CLEAN ESN\" Sprint EPIC 4G Galaxy SPH-D7...  Samsung  199.99   \n",
       "2       \"CLEAR CLEAN ESN\" Sprint EPIC 4G Galaxy SPH-D7...  Samsung  199.99   \n",
       "3       \"CLEAR CLEAN ESN\" Sprint EPIC 4G Galaxy SPH-D7...  Samsung  199.99   \n",
       "4       \"CLEAR CLEAN ESN\" Sprint EPIC 4G Galaxy SPH-D7...  Samsung  199.99   \n",
       "...                                                   ...      ...     ...   \n",
       "384270  ZTE V987 Android 4.1 MT6589 Quad Core 1.2GHz D...      ZTE  167.22   \n",
       "384271  ZTE V987 Android 4.1 MT6589 Quad Core 1.2GHz D...      ZTE  167.22   \n",
       "384272  ZTE V987 Android 4.1 MT6589 Quad Core 1.2GHz D...      ZTE  167.22   \n",
       "384273  ZTE V987 Android 4.1 MT6589 Quad Core 1.2GHz D...      ZTE  167.22   \n",
       "384274  ZTE V987 Android 4.1 MT6589 Quad Core 1.2GHz D...      ZTE  167.22   \n",
       "\n",
       "        Rating                                            Reviews  ReviewVotes  \n",
       "0            5  I feel so LUCKY to have found this used (phone...          1.0  \n",
       "1            4  nice phone, nice up grade from my pantach revu...          0.0  \n",
       "2            5                                       Very pleased          0.0  \n",
       "3            4  It works good but it goes slow sometimes but i...          0.0  \n",
       "4            4  Great phone to replace my lost phone. The only...          0.0  \n",
       "...        ...                                                ...          ...  \n",
       "384270       5                                          EXCELENTE          0.0  \n",
       "384271       2           Not as expected so I returned this phone          0.0  \n",
       "384272       5                                          very well          0.0  \n",
       "384273       5                                          excelente          0.0  \n",
       "384274       5                            great product! i loved!          0.0  \n",
       "\n",
       "[384275 rows x 6 columns]"
      ]
     },
     "execution_count": 204,
     "metadata": {},
     "output_type": "execute_result"
    }
   ],
   "source": [
    "# Continue the work from Part 1\n",
    "cleanDF = pd.read_csv(r'C:\\Users\\FORGE-15 I7\\OneDrive - AsiaPay Limited\\Sem 2\\Project\\Dataset\\0328\\cleanDF_0328.csv')\n",
    "cleanDF"
   ]
  },
  {
   "cell_type": "markdown",
   "metadata": {},
   "source": [
    "### Data Cleaning and Text Preprocessing/Analysis"
   ]
  },
  {
   "cell_type": "markdown",
   "metadata": {},
   "source": [
    "#### Define Data Cleaning Functions"
   ]
  },
  {
   "cell_type": "code",
   "execution_count": 205,
   "metadata": {},
   "outputs": [],
   "source": [
    "# Convert all characters to lowercase\n",
    "def to_lowercase(text):\n",
    "    text  = text.lower()\n",
    "    return text"
   ]
  },
  {
   "cell_type": "code",
   "execution_count": 206,
   "metadata": {},
   "outputs": [],
   "source": [
    "# Remove punctuation\n",
    "def remove_punct(text):\n",
    "    text  = \"\".join([char for char in text if char not in string.punctuation])\n",
    "    text = re.sub('[0-9]+', '', text)\n",
    "    return text"
   ]
  },
  {
   "cell_type": "code",
   "execution_count": 207,
   "metadata": {},
   "outputs": [],
   "source": [
    "# Remove stopwords\n",
    "mystopwords = [\"0o\", \"0s\", \"3a\", \"3b\", \"3d\", \"6b\", \"6o\", \"a\", \"a1\", \"a2\", \"a3\", \"a4\", \"ab\", \"able\", \"about\", \"above\", \"abst\", \"ac\", \"accordance\", \"according\", \"accordingly\", \"across\", \"act\", \"actually\", \"ad\", \"added\", \"adj\", \"ae\", \"af\", \"after\", \"afterwards\", \"ag\", \"again\", \"against\", \"ah\", \"ain\", \"ain't\", \"aj\", \"al\", \"all\", \"allow\", \"allows\", \"almost\", \"alone\", \"along\", \"already\", \"also\", \"although\", \"always\", \"am\", \"among\", \"amongst\", \"amoungst\", \"amount\", \"an\", \"and\", \"announce\", \"another\", \"any\", \"anybody\", \"anyhow\", \"anymore\", \"anyone\", \"anything\", \"anyway\", \"anyways\", \"anywhere\", \"ao\", \"ap\", \"apart\", \"apparently\", \"appreciate\", \"appropriate\", \"approximately\", \"ar\", \"are\", \"aren\", \"arent\", \"aren't\", \"arise\", \"around\", \"as\", \"a's\", \"aside\", \"ask\", \"asking\", \"associated\", \"at\", \"au\", \"auth\", \"av\", \"aw\", \"away\", \"awfully\", \"ax\", \"ay\", \"az\", \"b\", \"b1\", \"b2\", \"b3\", \"ba\", \"back\", \"bc\", \"bd\", \"be\", \"became\", \"because\", \"become\", \"becomes\", \"becoming\", \"been\", \"before\", \"beforehand\", \"begin\", \"beginning\", \"beginnings\", \"begins\", \"behind\", \"being\", \"believe\", \"below\", \"beside\", \"besides\", \"between\", \"beyond\", \"bi\", \"bill\", \"biol\", \"bj\", \"bk\", \"bl\", \"bn\", \"both\", \"bottom\", \"bp\", \"br\", \"brief\", \"briefly\", \"bs\", \"bt\", \"bu\", \"but\", \"bx\", \"by\", \"c\", \"c1\", \"c2\", \"c3\", \"ca\", \"call\", \"came\", \"can\", \"cannot\", \"cant\", \"can't\", \"cause\", \"causes\", \"cc\", \"cd\", \"ce\", \"certain\", \"certainly\", \"cf\", \"cg\", \"ch\", \"changes\", \"ci\", \"cit\", \"cj\", \"cl\", \"clearly\", \"cm\", \"c'mon\", \"cn\", \"co\", \"com\", \"come\", \"comes\", \"con\", \"concerning\", \"consequently\", \"consider\", \"considering\", \"contain\", \"containing\", \"contains\", \"corresponding\", \"could\", \"couldn\", \"couldnt\", \"couldn't\", \"course\", \"cp\", \"cq\", \"cr\", \"cry\", \"cs\", \"c's\", \"ct\", \"cu\", \"currently\", \"cv\", \"cx\", \"cy\", \"cz\", \"d\", \"d2\", \"da\", \"date\", \"dc\", \"dd\", \"de\", \"definitely\", \"describe\", \"described\", \"despite\",  \"df\", \"di\", \"did\", \"didn\", \"didn't\", \"dj\", \"dk\", \"dl\", \"do\", \"does\", \"doesn\", \"doesn't\", \"doing\", \"don\", \"done\", \"don't\", \"down\", \"downwards\", \"dp\", \"dr\", \"ds\", \"dt\", \"du\", \"due\", \"during\", \"dx\", \"dy\", \"e\", \"e2\", \"e3\", \"ea\", \"each\", \"ec\", \"ed\", \"edu\", \"ee\", \"ef\", \"effect\", \"eg\", \"ei\", \"eight\", \"eighty\", \"either\", \"ej\", \"el\", \"eleven\", \"else\", \"elsewhere\", \"em\", \"en\", \"end\", \"ending\", \"enough\", \"entirely\", \"eo\", \"ep\", \"eq\", \"er\", \"es\", \"especially\", \"est\", \"et\", \"et-al\", \"etc\", \"eu\", \"ev\", \"even\", \"ever\", \"every\", \"everybody\", \"everyone\", \"everything\", \"everywhere\", \"ex\", \"exactly\", \"example\", \"except\", \"ey\", \"f\", \"f2\", \"fa\", \"far\", \"fc\", \"few\", \"ff\", \"fi\", \"fifteen\", \"fifth\", \"fify\", \"fill\", \"find\", \"fire\", \"first\", \"five\", \"fix\", \"fj\", \"fl\", \"fn\", \"fo\", \"followed\", \"following\", \"follows\", \"for\", \"former\", \"formerly\", \"forth\", \"forty\", \"found\", \"four\", \"fr\", \"from\", \"front\", \"fs\", \"ft\", \"fu\", \"full\", \"further\", \"furthermore\", \"fy\", \"g\", \"ga\", \"gave\", \"ge\", \"get\", \"gets\", \"getting\", \"gi\", \"give\", \"given\", \"gives\", \"giving\", \"gj\", \"gl\", \"go\", \"goes\", \"going\", \"gone\", \"got\", \"gotten\", \"gr\", \"greetings\", \"gs\", \"gy\", \"h\", \"h2\", \"h3\", \"had\", \"hadn\", \"hadn't\", \"happens\", \"hardly\", \"has\", \"hasn\", \"hasnt\", \"hasn't\", \"have\", \"haven\", \"haven't\", \"having\", \"he\", \"hed\", \"he'd\", \"he'll\", \"hello\", \"help\", \"hence\", \"her\", \"here\", \"hereafter\", \"hereby\", \"herein\", \"heres\", \"here's\", \"hereupon\", \"hers\", \"herself\", \"hes\", \"he's\", \"hh\", \"hi\", \"hid\", \"him\", \"himself\", \"his\", \"hither\", \"hj\", \"ho\", \"home\", \"hopefully\", \"how\", \"howbeit\", \"however\", \"how's\", \"hr\", \"hs\", \"http\", \"hu\", \"hundred\", \"hy\", \"i\", \"i2\", \"i3\", \"i4\", \"i6\", \"i7\", \"i8\", \"ia\", \"ib\", \"ibid\", \"ic\", \"id\", \"i'd\", \"ie\", \"if\", \"ig\", \"ignored\", \"ih\", \"ii\", \"ij\", \"il\", \"i'll\", \"im\", \"i'm\", \"immediate\", \"immediately\", \"importance\", \"in\", \"inasmuch\", \"inc\", \"indeed\", \"index\", \"indicate\", \"indicated\", \"indicates\", \"inner\", \"insofar\", \"instead\", \"interest\", \"into\", \"invention\", \"inward\", \"io\", \"ip\", \"iq\", \"ir\", \"is\", \"isn\", \"isn't\", \"it\", \"itd\", \"it'd\", \"it'll\", \"its\", \"it's\", \"itself\", \"iv\", \"i've\", \"ix\", \"iy\", \"iz\", \"j\", \"jj\", \"jr\", \"js\", \"jt\", \"ju\", \"just\", \"k\", \"ke\", \"keep\", \"keeps\", \"kept\", \"kg\", \"kj\", \"km\", \"know\", \"known\", \"knows\", \"ko\", \"l\", \"l2\", \"la\", \"largely\", \"last\", \"lately\", \"later\", \"latter\", \"latterly\", \"lb\", \"lc\", \"le\", \"least\", \"les\", \"less\", \"lest\", \"let\", \"lets\", \"let's\", \"lf\", \"like\", \"liked\", \"likely\", \"line\", \"little\", \"lj\", \"ll\", \"ll\", \"ln\", \"lo\", \"look\", \"looking\", \"looks\", \"los\", \"lr\", \"ls\", \"lt\", \"ltd\", \"m\", \"m2\", \"ma\", \"made\", \"mainly\", \"make\", \"makes\", \"many\", \"may\", \"maybe\", \"me\", \"mean\", \"means\", \"meantime\", \"meanwhile\", \"merely\", \"mg\", \"might\", \"mightn\", \"mightn't\", \"mill\", \"million\", \"mine\", \"miss\", \"ml\", \"mn\", \"mo\", \"more\", \"moreover\", \"most\", \"mostly\", \"move\", \"mr\", \"mrs\", \"ms\", \"mt\", \"mu\", \"much\", \"mug\", \"must\", \"mustn\", \"mustn't\", \"my\", \"myself\", \"n\", \"n2\", \"na\", \"name\", \"namely\", \"nay\", \"nc\", \"nd\", \"ne\", \"near\", \"nearly\", \"necessarily\", \"necessary\", \"need\", \"needn\", \"needn't\", \"needs\", \"neither\", \"never\", \"nevertheless\", \"new\", \"next\", \"ng\", \"ni\", \"nine\", \"ninety\", \"nj\", \"nl\", \"nn\", \"no\", \"nobody\", \"non\", \"none\", \"nonetheless\", \"noone\", \"nor\", \"normally\", \"nos\", \"not\", \"noted\", \"nothing\", \"novel\", \"now\", \"nowhere\", \"nr\", \"ns\", \"nt\", \"ny\", \"o\", \"oa\", \"ob\", \"obtain\", \"obtained\", \"obviously\", \"oc\", \"od\", \"of\", \"off\", \"often\", \"og\", \"oh\", \"oi\", \"oj\", \"ol\", \"om\", \"omitted\", \"on\", \"once\", \"one\", \"ones\", \"only\", \"onto\", \"oo\", \"op\", \"oq\", \"or\", \"ord\", \"os\", \"ot\", \"other\", \"others\", \"otherwise\", \"ou\", \"ought\", \"our\", \"ours\", \"ourselves\", \"out\", \"outside\", \"over\", \"overall\", \"ow\", \"owing\", \"own\", \"ox\", \"oz\", \"p\", \"p1\", \"p2\", \"p3\", \"page\", \"pagecount\", \"pages\", \"par\", \"particular\", \"particularly\", \"pas\", \"past\", \"pc\", \"pd\", \"pe\", \"per\", \"perhaps\", \"pf\", \"ph\", \"pi\", \"pj\", \"pk\", \"pl\", \"placed\", \"please\", \"plus\", \"pm\", \"pn\", \"po\", \"poorly\", \"possible\", \"possibly\", \"potentially\", \"pp\", \"pq\", \"pr\", \"predominantly\", \"present\", \"presumably\", \"previously\", \"primarily\", \"probably\", \"promptly\", \"proud\", \"provides\", \"ps\", \"pt\", \"pu\", \"put\", \"py\", \"q\", \"qj\", \"qu\", \"que\", \"quickly\", \"quite\", \"qv\", \"r\", \"r2\", \"ra\", \"ran\", \"rather\", \"rc\", \"rd\", \"re\", \"readily\", \"really\", \"reasonably\", \"recent\", \"recently\", \"ref\", \"refs\", \"regarding\", \"regardless\", \"regards\", \"related\", \"relatively\", \"research\", \"research-articl\", \"respectively\", \"resulted\", \"resulting\", \"results\", \"rf\", \"rh\", \"ri\", \"right\", \"rj\", \"rl\", \"rm\", \"rn\", \"ro\", \"rq\", \"rr\", \"rs\", \"rt\", \"ru\", \"run\", \"rv\", \"ry\", \"s\", \"s2\", \"sa\", \"said\", \"same\", \"saw\", \"say\", \"saying\", \"says\", \"sc\", \"sd\", \"se\", \"sec\", \"second\", \"secondly\", \"section\", \"see\", \"seeing\", \"seem\", \"seemed\", \"seeming\", \"seems\", \"seen\", \"self\", \"selves\", \"sensible\", \"sent\", \"serious\", \"seriously\", \"seven\", \"several\", \"sf\", \"shall\", \"shan\", \"shan't\", \"she\", \"shed\", \"she'd\", \"she'll\", \"shes\", \"she's\", \"should\", \"shouldn\", \"shouldn't\", \"should've\", \"show\", \"showed\", \"shown\", \"showns\", \"shows\", \"si\", \"side\", \"significant\", \"significantly\", \"similar\", \"similarly\", \"since\", \"sincere\", \"six\", \"sixty\", \"sj\", \"sl\", \"slightly\", \"sm\", \"sn\", \"so\", \"some\", \"somebody\", \"somehow\", \"someone\", \"somethan\", \"something\", \"sometime\", \"sometimes\", \"somewhat\", \"somewhere\", \"soon\", \"sorry\", \"sp\", \"specifically\", \"specified\", \"specify\", \"specifying\", \"sq\", \"sr\", \"ss\", \"st\", \"still\", \"strongly\", \"sub\", \"substantially\", \"successfully\", \"such\", \"sufficiently\", \"suggest\", \"sup\", \"sure\", \"sy\", \"sz\", \"t\", \"t1\", \"t2\", \"t3\", \"take\", \"taken\", \"taking\", \"tb\", \"tc\", \"td\", \"te\", \"tell\", \"ten\", \"tends\", \"tf\", \"th\", \"than\", \"thank\", \"thanks\", \"thanx\", \"that\", \"that'll\", \"thats\", \"that's\", \"that've\", \"the\", \"their\", \"theirs\", \"them\", \"themselves\", \"then\", \"thence\", \"there\", \"thereafter\", \"thereby\", \"thered\", \"therefore\", \"therein\", \"there'll\", \"thereof\", \"therere\", \"theres\", \"there's\", \"thereto\", \"thereupon\", \"there've\", \"these\", \"they\", \"theyd\", \"they'd\", \"they'll\", \"theyre\", \"they're\", \"they've\", \"thickv\", \"thin\", \"think\", \"third\", \"this\", \"thorough\", \"thoroughly\", \"those\", \"thou\", \"though\", \"thoughh\", \"thousand\", \"three\", \"throug\", \"through\", \"throughout\", \"thru\", \"thus\", \"ti\", \"til\", \"tip\", \"tj\", \"tl\", \"tm\", \"tn\", \"to\", \"together\", \"too\", \"took\", \"top\", \"toward\", \"towards\", \"tp\", \"tq\", \"tr\", \"tried\", \"tries\", \"truly\", \"try\", \"trying\", \"ts\", \"t's\", \"tt\", \"tv\", \"twelve\", \"twenty\", \"twice\", \"two\", \"tx\", \"u\", \"u201d\", \"ue\", \"ui\", \"uj\", \"uk\", \"um\", \"un\", \"under\", \"unfortunately\", \"unless\", \"unlike\", \"unlikely\", \"until\", \"unto\", \"uo\", \"up\", \"upon\", \"ups\", \"ur\", \"us\", \"use\", \"used\", \"usefully\", \"usefulness\", \"uses\", \"using\", \"usually\", \"ut\", \"v\", \"va\", \"value\", \"various\", \"vd\", \"ve\", \"ve\", \"very\", \"via\", \"viz\", \"vj\", \"vo\", \"vol\", \"vols\", \"volumtype\", \"vq\", \"vs\", \"vt\", \"vu\", \"w\", \"wa\", \"want\", \"wants\", \"was\", \"wasn\", \"wasnt\", \"wasn't\", \"way\", \"we\", \"wed\", \"we'd\", \"welcome\", \"we'll\", \"well-b\", \"went\", \"were\", \"we're\", \"weren\", \"werent\", \"weren't\", \"we've\", \"what\", \"whatever\", \"what'll\", \"whats\", \"what's\", \"when\", \"whence\", \"whenever\", \"when's\", \"where\", \"whereafter\", \"whereas\", \"whereby\", \"wherein\", \"wheres\", \"where's\", \"whereupon\", \"wherever\", \"whether\", \"which\", \"while\", \"whim\", \"whither\", \"who\", \"whod\", \"whoever\", \"whole\", \"who'll\", \"whom\", \"whomever\", \"whos\", \"who's\", \"whose\", \"why\", \"why's\", \"wi\", \"widely\", \"will\", \"willing\", \"wish\", \"with\", \"within\", \"without\", \"wo\", \"won\", \"wonder\", \"wont\", \"won't\", \"words\", \"world\", \"would\", \"wouldn\", \"wouldnt\", \"wouldn't\", \"www\", \"x\", \"x1\", \"x2\", \"x3\", \"xf\", \"xi\", \"xj\", \"xk\", \"xl\", \"xn\", \"xo\", \"xs\", \"xt\", \"xv\", \"xx\", \"y\", \"y2\", \"yes\", \"yet\", \"yj\", \"yl\", \"you\", \"youd\", \"you'd\", \"you'll\", \"your\", \"youre\", \"you're\", \"yours\", \"yourself\", \"yourselves\", \"you've\", \"yr\", \"ys\", \"yt\", \"z\", \"zero\", \"zi\", \"zz\"]\n",
    "#stopwordsList = set(stopwords.words('english')) \n",
    "def remove_stopwords(text):\n",
    "    text = [word for word in text if word not in mystopwords]\n",
    "    return text"
   ]
  },
  {
   "cell_type": "code",
   "execution_count": 208,
   "metadata": {},
   "outputs": [],
   "source": [
    "# Tokenize words\n",
    "def tokenize(text):\n",
    "    word_tokens = word_tokenize(text)\n",
    "    return word_tokens"
   ]
  },
  {
   "cell_type": "code",
   "execution_count": 209,
   "metadata": {},
   "outputs": [],
   "source": [
    "# Get appropriate POS tag\n",
    "def get_wordnet_pos(word):\n",
    "    \"\"\"Map POS tag to first character lemmatize() accepts\"\"\"\n",
    "    tag = nltk.pos_tag([word])[0][1][0].upper()\n",
    "    tag_dict = {\"J\": wordnet.ADJ,\n",
    "                \"N\": wordnet.NOUN,\n",
    "                \"V\": wordnet.VERB,\n",
    "                \"R\": wordnet.ADV}\n",
    "\n",
    "    return tag_dict.get(tag, wordnet.NOUN)\n"
   ]
  },
  {
   "cell_type": "code",
   "execution_count": 210,
   "metadata": {},
   "outputs": [],
   "source": [
    "# Lemmatize a Sentence with the appropriate POS tag\n",
    "# https://www.machinelearningplus.com/nlp/lemmatization-examples-python/\n",
    "wordnet_lemmatizer = WordNetLemmatizer()\n",
    "def lemmatizer(text):\n",
    "    text =  [wordnet_lemmatizer.lemmatize(w, get_wordnet_pos(w)) for w in text]\n",
    "    return text"
   ]
  },
  {
   "cell_type": "code",
   "execution_count": 211,
   "metadata": {},
   "outputs": [],
   "source": [
    "stemmer = SnowballStemmer(\"english\")\n",
    "def stemming(text):\n",
    "    text = [stemmer.stem(word) for word in text]\n",
    "    return text"
   ]
  },
  {
   "cell_type": "code",
   "execution_count": 212,
   "metadata": {},
   "outputs": [],
   "source": [
    "# Combine all the functions\n",
    "def datapreprocessing(review):\n",
    "    \n",
    "    # Convert the text into lowercase\n",
    "    review = to_lowercase(review)\n",
    "    \n",
    "    # Remove punctuation\n",
    "    review = remove_punct(review)\n",
    "    \n",
    "    # Tokenization\n",
    "    review = word_tokenize(review)\n",
    "    \n",
    "    # Remove stopwords\n",
    "    review = remove_stopwords(review)\n",
    "    \n",
    "    # Lemmatization\n",
    "    review = lemmatizer(review)\n",
    "    \n",
    "    # Stemming\n",
    "    review = stemming(review)\n",
    "    \n",
    "    #return review\n",
    "    return \" \".join(review)"
   ]
  },
  {
   "cell_type": "markdown",
   "metadata": {},
   "source": [
    "#### Apply data pre-processing function to reviews in dataset"
   ]
  },
  {
   "cell_type": "code",
   "execution_count": 213,
   "metadata": {},
   "outputs": [
    {
     "data": {
      "application/vnd.jupyter.widget-view+json": {
       "model_id": "1be9ef7b886c48e68d93363dc5924ef6",
       "version_major": 2,
       "version_minor": 0
      },
      "text/plain": [
       "HBox(children=(FloatProgress(value=0.0, max=384275.0), HTML(value='')))"
      ]
     },
     "metadata": {},
     "output_type": "display_data"
    },
    {
     "name": "stdout",
     "output_type": "stream",
     "text": [
      "\n"
     ]
    }
   ],
   "source": [
    "tqdm.pandas()\n",
    "cleanDF['CleanedReviews'] = cleanDF['Reviews'].progress_apply(lambda x: datapreprocessing(x))"
   ]
  },
  {
   "cell_type": "code",
   "execution_count": 214,
   "metadata": {},
   "outputs": [
    {
     "data": {
      "text/html": [
       "<div>\n",
       "<style scoped>\n",
       "    .dataframe tbody tr th:only-of-type {\n",
       "        vertical-align: middle;\n",
       "    }\n",
       "\n",
       "    .dataframe tbody tr th {\n",
       "        vertical-align: top;\n",
       "    }\n",
       "\n",
       "    .dataframe thead th {\n",
       "        text-align: right;\n",
       "    }\n",
       "</style>\n",
       "<table border=\"1\" class=\"dataframe\">\n",
       "  <thead>\n",
       "    <tr style=\"text-align: right;\">\n",
       "      <th></th>\n",
       "      <th>Product</th>\n",
       "      <th>Brand</th>\n",
       "      <th>Price</th>\n",
       "      <th>Rating</th>\n",
       "      <th>Reviews</th>\n",
       "      <th>ReviewVotes</th>\n",
       "      <th>CleanedReviews</th>\n",
       "    </tr>\n",
       "  </thead>\n",
       "  <tbody>\n",
       "    <tr>\n",
       "      <th>0</th>\n",
       "      <td>\"CLEAR CLEAN ESN\" Sprint EPIC 4G Galaxy SPH-D7...</td>\n",
       "      <td>Samsung</td>\n",
       "      <td>199.99</td>\n",
       "      <td>5</td>\n",
       "      <td>I feel so LUCKY to have found this used (phone...</td>\n",
       "      <td>1.0</td>\n",
       "      <td>feel lucki phone hard phone upgrad sell son ol...</td>\n",
       "    </tr>\n",
       "    <tr>\n",
       "      <th>1</th>\n",
       "      <td>\"CLEAR CLEAN ESN\" Sprint EPIC 4G Galaxy SPH-D7...</td>\n",
       "      <td>Samsung</td>\n",
       "      <td>199.99</td>\n",
       "      <td>4</td>\n",
       "      <td>nice phone, nice up grade from my pantach revu...</td>\n",
       "      <td>0.0</td>\n",
       "      <td>nice phone nice grade pantach revu clean set e...</td>\n",
       "    </tr>\n",
       "    <tr>\n",
       "      <th>2</th>\n",
       "      <td>\"CLEAR CLEAN ESN\" Sprint EPIC 4G Galaxy SPH-D7...</td>\n",
       "      <td>Samsung</td>\n",
       "      <td>199.99</td>\n",
       "      <td>5</td>\n",
       "      <td>Very pleased</td>\n",
       "      <td>0.0</td>\n",
       "      <td>pleas</td>\n",
       "    </tr>\n",
       "    <tr>\n",
       "      <th>3</th>\n",
       "      <td>\"CLEAR CLEAN ESN\" Sprint EPIC 4G Galaxy SPH-D7...</td>\n",
       "      <td>Samsung</td>\n",
       "      <td>199.99</td>\n",
       "      <td>4</td>\n",
       "      <td>It works good but it goes slow sometimes but i...</td>\n",
       "      <td>0.0</td>\n",
       "      <td>work good slow good phone love</td>\n",
       "    </tr>\n",
       "    <tr>\n",
       "      <th>4</th>\n",
       "      <td>\"CLEAR CLEAN ESN\" Sprint EPIC 4G Galaxy SPH-D7...</td>\n",
       "      <td>Samsung</td>\n",
       "      <td>199.99</td>\n",
       "      <td>4</td>\n",
       "      <td>Great phone to replace my lost phone. The only...</td>\n",
       "      <td>0.0</td>\n",
       "      <td>great phone replac lose phone thing volum butt...</td>\n",
       "    </tr>\n",
       "    <tr>\n",
       "      <th>...</th>\n",
       "      <td>...</td>\n",
       "      <td>...</td>\n",
       "      <td>...</td>\n",
       "      <td>...</td>\n",
       "      <td>...</td>\n",
       "      <td>...</td>\n",
       "      <td>...</td>\n",
       "    </tr>\n",
       "    <tr>\n",
       "      <th>384270</th>\n",
       "      <td>ZTE V987 Android 4.1 MT6589 Quad Core 1.2GHz D...</td>\n",
       "      <td>ZTE</td>\n",
       "      <td>167.22</td>\n",
       "      <td>5</td>\n",
       "      <td>EXCELENTE</td>\n",
       "      <td>0.0</td>\n",
       "      <td>excelent</td>\n",
       "    </tr>\n",
       "    <tr>\n",
       "      <th>384271</th>\n",
       "      <td>ZTE V987 Android 4.1 MT6589 Quad Core 1.2GHz D...</td>\n",
       "      <td>ZTE</td>\n",
       "      <td>167.22</td>\n",
       "      <td>2</td>\n",
       "      <td>Not as expected so I returned this phone</td>\n",
       "      <td>0.0</td>\n",
       "      <td>expect return phone</td>\n",
       "    </tr>\n",
       "    <tr>\n",
       "      <th>384272</th>\n",
       "      <td>ZTE V987 Android 4.1 MT6589 Quad Core 1.2GHz D...</td>\n",
       "      <td>ZTE</td>\n",
       "      <td>167.22</td>\n",
       "      <td>5</td>\n",
       "      <td>very well</td>\n",
       "      <td>0.0</td>\n",
       "      <td>well</td>\n",
       "    </tr>\n",
       "    <tr>\n",
       "      <th>384273</th>\n",
       "      <td>ZTE V987 Android 4.1 MT6589 Quad Core 1.2GHz D...</td>\n",
       "      <td>ZTE</td>\n",
       "      <td>167.22</td>\n",
       "      <td>5</td>\n",
       "      <td>excelente</td>\n",
       "      <td>0.0</td>\n",
       "      <td>excelent</td>\n",
       "    </tr>\n",
       "    <tr>\n",
       "      <th>384274</th>\n",
       "      <td>ZTE V987 Android 4.1 MT6589 Quad Core 1.2GHz D...</td>\n",
       "      <td>ZTE</td>\n",
       "      <td>167.22</td>\n",
       "      <td>5</td>\n",
       "      <td>great product! i loved!</td>\n",
       "      <td>0.0</td>\n",
       "      <td>great product love</td>\n",
       "    </tr>\n",
       "  </tbody>\n",
       "</table>\n",
       "<p>384275 rows × 7 columns</p>\n",
       "</div>"
      ],
      "text/plain": [
       "                                                  Product    Brand   Price  \\\n",
       "0       \"CLEAR CLEAN ESN\" Sprint EPIC 4G Galaxy SPH-D7...  Samsung  199.99   \n",
       "1       \"CLEAR CLEAN ESN\" Sprint EPIC 4G Galaxy SPH-D7...  Samsung  199.99   \n",
       "2       \"CLEAR CLEAN ESN\" Sprint EPIC 4G Galaxy SPH-D7...  Samsung  199.99   \n",
       "3       \"CLEAR CLEAN ESN\" Sprint EPIC 4G Galaxy SPH-D7...  Samsung  199.99   \n",
       "4       \"CLEAR CLEAN ESN\" Sprint EPIC 4G Galaxy SPH-D7...  Samsung  199.99   \n",
       "...                                                   ...      ...     ...   \n",
       "384270  ZTE V987 Android 4.1 MT6589 Quad Core 1.2GHz D...      ZTE  167.22   \n",
       "384271  ZTE V987 Android 4.1 MT6589 Quad Core 1.2GHz D...      ZTE  167.22   \n",
       "384272  ZTE V987 Android 4.1 MT6589 Quad Core 1.2GHz D...      ZTE  167.22   \n",
       "384273  ZTE V987 Android 4.1 MT6589 Quad Core 1.2GHz D...      ZTE  167.22   \n",
       "384274  ZTE V987 Android 4.1 MT6589 Quad Core 1.2GHz D...      ZTE  167.22   \n",
       "\n",
       "        Rating                                            Reviews  \\\n",
       "0            5  I feel so LUCKY to have found this used (phone...   \n",
       "1            4  nice phone, nice up grade from my pantach revu...   \n",
       "2            5                                       Very pleased   \n",
       "3            4  It works good but it goes slow sometimes but i...   \n",
       "4            4  Great phone to replace my lost phone. The only...   \n",
       "...        ...                                                ...   \n",
       "384270       5                                          EXCELENTE   \n",
       "384271       2           Not as expected so I returned this phone   \n",
       "384272       5                                          very well   \n",
       "384273       5                                          excelente   \n",
       "384274       5                            great product! i loved!   \n",
       "\n",
       "        ReviewVotes                                     CleanedReviews  \n",
       "0               1.0  feel lucki phone hard phone upgrad sell son ol...  \n",
       "1               0.0  nice phone nice grade pantach revu clean set e...  \n",
       "2               0.0                                              pleas  \n",
       "3               0.0                     work good slow good phone love  \n",
       "4               0.0  great phone replac lose phone thing volum butt...  \n",
       "...             ...                                                ...  \n",
       "384270          0.0                                           excelent  \n",
       "384271          0.0                                expect return phone  \n",
       "384272          0.0                                               well  \n",
       "384273          0.0                                           excelent  \n",
       "384274          0.0                                 great product love  \n",
       "\n",
       "[384275 rows x 7 columns]"
      ]
     },
     "execution_count": 214,
     "metadata": {},
     "output_type": "execute_result"
    }
   ],
   "source": [
    "cleanDF"
   ]
  },
  {
   "cell_type": "markdown",
   "metadata": {},
   "source": [
    "Check if there is any empty review after data cleaning"
   ]
  },
  {
   "cell_type": "code",
   "execution_count": 233,
   "metadata": {},
   "outputs": [
    {
     "data": {
      "text/plain": [
       "3749"
      ]
     },
     "execution_count": 233,
     "metadata": {},
     "output_type": "execute_result"
    }
   ],
   "source": [
    "sum(cleanDF['CleanedReviews'] == '')"
   ]
  },
  {
   "cell_type": "markdown",
   "metadata": {},
   "source": [
    "Remove rows with empty review"
   ]
  },
  {
   "cell_type": "code",
   "execution_count": 237,
   "metadata": {},
   "outputs": [],
   "source": [
    "# Replace empty columns with nan first and drop them later\n",
    "cleanDF['CleanedReviews'].replace('', np.nan, inplace=True)\n",
    "cleanDF.dropna(subset=['CleanedReviews'], inplace=True)"
   ]
  },
  {
   "cell_type": "code",
   "execution_count": 238,
   "metadata": {},
   "outputs": [
    {
     "data": {
      "text/html": [
       "<div>\n",
       "<style scoped>\n",
       "    .dataframe tbody tr th:only-of-type {\n",
       "        vertical-align: middle;\n",
       "    }\n",
       "\n",
       "    .dataframe tbody tr th {\n",
       "        vertical-align: top;\n",
       "    }\n",
       "\n",
       "    .dataframe thead th {\n",
       "        text-align: right;\n",
       "    }\n",
       "</style>\n",
       "<table border=\"1\" class=\"dataframe\">\n",
       "  <thead>\n",
       "    <tr style=\"text-align: right;\">\n",
       "      <th></th>\n",
       "      <th>Product</th>\n",
       "      <th>Brand</th>\n",
       "      <th>Price</th>\n",
       "      <th>Rating</th>\n",
       "      <th>Reviews</th>\n",
       "      <th>ReviewVotes</th>\n",
       "      <th>CleanedReviews</th>\n",
       "      <th>Polarity</th>\n",
       "      <th>Polarity_Index</th>\n",
       "    </tr>\n",
       "  </thead>\n",
       "  <tbody>\n",
       "    <tr>\n",
       "      <th>0</th>\n",
       "      <td>\"CLEAR CLEAN ESN\" Sprint EPIC 4G Galaxy SPH-D7...</td>\n",
       "      <td>Samsung</td>\n",
       "      <td>199.99</td>\n",
       "      <td>5</td>\n",
       "      <td>I feel so LUCKY to have found this used (phone...</td>\n",
       "      <td>1.0</td>\n",
       "      <td>feel lucki phone hard phone upgrad sell son ol...</td>\n",
       "      <td>Positive</td>\n",
       "      <td>1</td>\n",
       "    </tr>\n",
       "    <tr>\n",
       "      <th>1</th>\n",
       "      <td>\"CLEAR CLEAN ESN\" Sprint EPIC 4G Galaxy SPH-D7...</td>\n",
       "      <td>Samsung</td>\n",
       "      <td>199.99</td>\n",
       "      <td>4</td>\n",
       "      <td>nice phone, nice up grade from my pantach revu...</td>\n",
       "      <td>0.0</td>\n",
       "      <td>nice phone nice grade pantach revu clean set e...</td>\n",
       "      <td>Positive</td>\n",
       "      <td>1</td>\n",
       "    </tr>\n",
       "    <tr>\n",
       "      <th>2</th>\n",
       "      <td>\"CLEAR CLEAN ESN\" Sprint EPIC 4G Galaxy SPH-D7...</td>\n",
       "      <td>Samsung</td>\n",
       "      <td>199.99</td>\n",
       "      <td>5</td>\n",
       "      <td>Very pleased</td>\n",
       "      <td>0.0</td>\n",
       "      <td>pleas</td>\n",
       "      <td>Positive</td>\n",
       "      <td>1</td>\n",
       "    </tr>\n",
       "    <tr>\n",
       "      <th>3</th>\n",
       "      <td>\"CLEAR CLEAN ESN\" Sprint EPIC 4G Galaxy SPH-D7...</td>\n",
       "      <td>Samsung</td>\n",
       "      <td>199.99</td>\n",
       "      <td>4</td>\n",
       "      <td>It works good but it goes slow sometimes but i...</td>\n",
       "      <td>0.0</td>\n",
       "      <td>work good slow good phone love</td>\n",
       "      <td>Positive</td>\n",
       "      <td>1</td>\n",
       "    </tr>\n",
       "    <tr>\n",
       "      <th>4</th>\n",
       "      <td>\"CLEAR CLEAN ESN\" Sprint EPIC 4G Galaxy SPH-D7...</td>\n",
       "      <td>Samsung</td>\n",
       "      <td>199.99</td>\n",
       "      <td>4</td>\n",
       "      <td>Great phone to replace my lost phone. The only...</td>\n",
       "      <td>0.0</td>\n",
       "      <td>great phone replac lose phone thing volum butt...</td>\n",
       "      <td>Positive</td>\n",
       "      <td>1</td>\n",
       "    </tr>\n",
       "    <tr>\n",
       "      <th>...</th>\n",
       "      <td>...</td>\n",
       "      <td>...</td>\n",
       "      <td>...</td>\n",
       "      <td>...</td>\n",
       "      <td>...</td>\n",
       "      <td>...</td>\n",
       "      <td>...</td>\n",
       "      <td>...</td>\n",
       "      <td>...</td>\n",
       "    </tr>\n",
       "    <tr>\n",
       "      <th>384270</th>\n",
       "      <td>ZTE V987 Android 4.1 MT6589 Quad Core 1.2GHz D...</td>\n",
       "      <td>ZTE</td>\n",
       "      <td>167.22</td>\n",
       "      <td>5</td>\n",
       "      <td>EXCELENTE</td>\n",
       "      <td>0.0</td>\n",
       "      <td>excelent</td>\n",
       "      <td>Neutral</td>\n",
       "      <td>0</td>\n",
       "    </tr>\n",
       "    <tr>\n",
       "      <th>384271</th>\n",
       "      <td>ZTE V987 Android 4.1 MT6589 Quad Core 1.2GHz D...</td>\n",
       "      <td>ZTE</td>\n",
       "      <td>167.22</td>\n",
       "      <td>2</td>\n",
       "      <td>Not as expected so I returned this phone</td>\n",
       "      <td>0.0</td>\n",
       "      <td>expect return phone</td>\n",
       "      <td>Neutral</td>\n",
       "      <td>0</td>\n",
       "    </tr>\n",
       "    <tr>\n",
       "      <th>384272</th>\n",
       "      <td>ZTE V987 Android 4.1 MT6589 Quad Core 1.2GHz D...</td>\n",
       "      <td>ZTE</td>\n",
       "      <td>167.22</td>\n",
       "      <td>5</td>\n",
       "      <td>very well</td>\n",
       "      <td>0.0</td>\n",
       "      <td>well</td>\n",
       "      <td>Positive</td>\n",
       "      <td>1</td>\n",
       "    </tr>\n",
       "    <tr>\n",
       "      <th>384273</th>\n",
       "      <td>ZTE V987 Android 4.1 MT6589 Quad Core 1.2GHz D...</td>\n",
       "      <td>ZTE</td>\n",
       "      <td>167.22</td>\n",
       "      <td>5</td>\n",
       "      <td>excelente</td>\n",
       "      <td>0.0</td>\n",
       "      <td>excelent</td>\n",
       "      <td>Neutral</td>\n",
       "      <td>0</td>\n",
       "    </tr>\n",
       "    <tr>\n",
       "      <th>384274</th>\n",
       "      <td>ZTE V987 Android 4.1 MT6589 Quad Core 1.2GHz D...</td>\n",
       "      <td>ZTE</td>\n",
       "      <td>167.22</td>\n",
       "      <td>5</td>\n",
       "      <td>great product! i loved!</td>\n",
       "      <td>0.0</td>\n",
       "      <td>great product love</td>\n",
       "      <td>Positive</td>\n",
       "      <td>1</td>\n",
       "    </tr>\n",
       "  </tbody>\n",
       "</table>\n",
       "<p>380526 rows × 9 columns</p>\n",
       "</div>"
      ],
      "text/plain": [
       "                                                  Product    Brand   Price  \\\n",
       "0       \"CLEAR CLEAN ESN\" Sprint EPIC 4G Galaxy SPH-D7...  Samsung  199.99   \n",
       "1       \"CLEAR CLEAN ESN\" Sprint EPIC 4G Galaxy SPH-D7...  Samsung  199.99   \n",
       "2       \"CLEAR CLEAN ESN\" Sprint EPIC 4G Galaxy SPH-D7...  Samsung  199.99   \n",
       "3       \"CLEAR CLEAN ESN\" Sprint EPIC 4G Galaxy SPH-D7...  Samsung  199.99   \n",
       "4       \"CLEAR CLEAN ESN\" Sprint EPIC 4G Galaxy SPH-D7...  Samsung  199.99   \n",
       "...                                                   ...      ...     ...   \n",
       "384270  ZTE V987 Android 4.1 MT6589 Quad Core 1.2GHz D...      ZTE  167.22   \n",
       "384271  ZTE V987 Android 4.1 MT6589 Quad Core 1.2GHz D...      ZTE  167.22   \n",
       "384272  ZTE V987 Android 4.1 MT6589 Quad Core 1.2GHz D...      ZTE  167.22   \n",
       "384273  ZTE V987 Android 4.1 MT6589 Quad Core 1.2GHz D...      ZTE  167.22   \n",
       "384274  ZTE V987 Android 4.1 MT6589 Quad Core 1.2GHz D...      ZTE  167.22   \n",
       "\n",
       "        Rating                                            Reviews  \\\n",
       "0            5  I feel so LUCKY to have found this used (phone...   \n",
       "1            4  nice phone, nice up grade from my pantach revu...   \n",
       "2            5                                       Very pleased   \n",
       "3            4  It works good but it goes slow sometimes but i...   \n",
       "4            4  Great phone to replace my lost phone. The only...   \n",
       "...        ...                                                ...   \n",
       "384270       5                                          EXCELENTE   \n",
       "384271       2           Not as expected so I returned this phone   \n",
       "384272       5                                          very well   \n",
       "384273       5                                          excelente   \n",
       "384274       5                            great product! i loved!   \n",
       "\n",
       "        ReviewVotes                                     CleanedReviews  \\\n",
       "0               1.0  feel lucki phone hard phone upgrad sell son ol...   \n",
       "1               0.0  nice phone nice grade pantach revu clean set e...   \n",
       "2               0.0                                              pleas   \n",
       "3               0.0                     work good slow good phone love   \n",
       "4               0.0  great phone replac lose phone thing volum butt...   \n",
       "...             ...                                                ...   \n",
       "384270          0.0                                           excelent   \n",
       "384271          0.0                                expect return phone   \n",
       "384272          0.0                                               well   \n",
       "384273          0.0                                           excelent   \n",
       "384274          0.0                                 great product love   \n",
       "\n",
       "        Polarity  Polarity_Index  \n",
       "0       Positive               1  \n",
       "1       Positive               1  \n",
       "2       Positive               1  \n",
       "3       Positive               1  \n",
       "4       Positive               1  \n",
       "...          ...             ...  \n",
       "384270   Neutral               0  \n",
       "384271   Neutral               0  \n",
       "384272  Positive               1  \n",
       "384273   Neutral               0  \n",
       "384274  Positive               1  \n",
       "\n",
       "[380526 rows x 9 columns]"
      ]
     },
     "execution_count": 238,
     "metadata": {},
     "output_type": "execute_result"
    }
   ],
   "source": [
    "cleanDF"
   ]
  },
  {
   "cell_type": "markdown",
   "metadata": {},
   "source": [
    "#### Assign polarity to each review\n",
    "Positive, Neutral, Negative"
   ]
  },
  {
   "cell_type": "code",
   "execution_count": 239,
   "metadata": {},
   "outputs": [
    {
     "name": "stdout",
     "output_type": "stream",
     "text": [
      "[('Negative', 54793), ('Positive', 253677), ('Neutral', 72056)]\n"
     ]
    }
   ],
   "source": [
    "sentiment = SentimentIntensityAnalyzer()\n",
    "\n",
    "polarity = []\n",
    "polarity_index = []\n",
    "\n",
    "for sentences in cleanDF['CleanedReviews']:\n",
    "\n",
    "    ss = sentiment.polarity_scores(sentences)\n",
    " \n",
    "    if ss['compound'] >= 0.05 : \n",
    "        # print(\"Positive\") \n",
    "        polarity.append(\"Positive\")\n",
    "        polarity_index.append(1)\n",
    "    elif ss['compound'] <= -0.05 : \n",
    "        # print(\"Negative\") \n",
    "        polarity.append(\"Negative\")\n",
    "        polarity_index.append(-1)\n",
    "    else : \n",
    "        # print(\"Neutral\") \n",
    "        polarity.append(\"Neutral\")\n",
    "        polarity_index.append(0)\n",
    "review_polarity = [(i, polarity.count(i)) for i in set(polarity)]\n",
    "print(review_polarity)"
   ]
  },
  {
   "cell_type": "code",
   "execution_count": 240,
   "metadata": {},
   "outputs": [
    {
     "data": {
      "text/html": [
       "<div>\n",
       "<style scoped>\n",
       "    .dataframe tbody tr th:only-of-type {\n",
       "        vertical-align: middle;\n",
       "    }\n",
       "\n",
       "    .dataframe tbody tr th {\n",
       "        vertical-align: top;\n",
       "    }\n",
       "\n",
       "    .dataframe thead th {\n",
       "        text-align: right;\n",
       "    }\n",
       "</style>\n",
       "<table border=\"1\" class=\"dataframe\">\n",
       "  <thead>\n",
       "    <tr style=\"text-align: right;\">\n",
       "      <th></th>\n",
       "      <th>Product</th>\n",
       "      <th>Brand</th>\n",
       "      <th>Price</th>\n",
       "      <th>Rating</th>\n",
       "      <th>Reviews</th>\n",
       "      <th>ReviewVotes</th>\n",
       "      <th>CleanedReviews</th>\n",
       "      <th>Polarity</th>\n",
       "      <th>Polarity_Index</th>\n",
       "    </tr>\n",
       "  </thead>\n",
       "  <tbody>\n",
       "    <tr>\n",
       "      <th>0</th>\n",
       "      <td>\"CLEAR CLEAN ESN\" Sprint EPIC 4G Galaxy SPH-D7...</td>\n",
       "      <td>Samsung</td>\n",
       "      <td>199.99</td>\n",
       "      <td>5</td>\n",
       "      <td>I feel so LUCKY to have found this used (phone...</td>\n",
       "      <td>1.0</td>\n",
       "      <td>feel lucki phone hard phone upgrad sell son ol...</td>\n",
       "      <td>Positive</td>\n",
       "      <td>1</td>\n",
       "    </tr>\n",
       "    <tr>\n",
       "      <th>1</th>\n",
       "      <td>\"CLEAR CLEAN ESN\" Sprint EPIC 4G Galaxy SPH-D7...</td>\n",
       "      <td>Samsung</td>\n",
       "      <td>199.99</td>\n",
       "      <td>4</td>\n",
       "      <td>nice phone, nice up grade from my pantach revu...</td>\n",
       "      <td>0.0</td>\n",
       "      <td>nice phone nice grade pantach revu clean set e...</td>\n",
       "      <td>Positive</td>\n",
       "      <td>1</td>\n",
       "    </tr>\n",
       "    <tr>\n",
       "      <th>2</th>\n",
       "      <td>\"CLEAR CLEAN ESN\" Sprint EPIC 4G Galaxy SPH-D7...</td>\n",
       "      <td>Samsung</td>\n",
       "      <td>199.99</td>\n",
       "      <td>5</td>\n",
       "      <td>Very pleased</td>\n",
       "      <td>0.0</td>\n",
       "      <td>pleas</td>\n",
       "      <td>Neutral</td>\n",
       "      <td>0</td>\n",
       "    </tr>\n",
       "    <tr>\n",
       "      <th>3</th>\n",
       "      <td>\"CLEAR CLEAN ESN\" Sprint EPIC 4G Galaxy SPH-D7...</td>\n",
       "      <td>Samsung</td>\n",
       "      <td>199.99</td>\n",
       "      <td>4</td>\n",
       "      <td>It works good but it goes slow sometimes but i...</td>\n",
       "      <td>0.0</td>\n",
       "      <td>work good slow good phone love</td>\n",
       "      <td>Positive</td>\n",
       "      <td>1</td>\n",
       "    </tr>\n",
       "    <tr>\n",
       "      <th>4</th>\n",
       "      <td>\"CLEAR CLEAN ESN\" Sprint EPIC 4G Galaxy SPH-D7...</td>\n",
       "      <td>Samsung</td>\n",
       "      <td>199.99</td>\n",
       "      <td>4</td>\n",
       "      <td>Great phone to replace my lost phone. The only...</td>\n",
       "      <td>0.0</td>\n",
       "      <td>great phone replac lose phone thing volum butt...</td>\n",
       "      <td>Positive</td>\n",
       "      <td>1</td>\n",
       "    </tr>\n",
       "    <tr>\n",
       "      <th>...</th>\n",
       "      <td>...</td>\n",
       "      <td>...</td>\n",
       "      <td>...</td>\n",
       "      <td>...</td>\n",
       "      <td>...</td>\n",
       "      <td>...</td>\n",
       "      <td>...</td>\n",
       "      <td>...</td>\n",
       "      <td>...</td>\n",
       "    </tr>\n",
       "    <tr>\n",
       "      <th>384270</th>\n",
       "      <td>ZTE V987 Android 4.1 MT6589 Quad Core 1.2GHz D...</td>\n",
       "      <td>ZTE</td>\n",
       "      <td>167.22</td>\n",
       "      <td>5</td>\n",
       "      <td>EXCELENTE</td>\n",
       "      <td>0.0</td>\n",
       "      <td>excelent</td>\n",
       "      <td>Neutral</td>\n",
       "      <td>0</td>\n",
       "    </tr>\n",
       "    <tr>\n",
       "      <th>384271</th>\n",
       "      <td>ZTE V987 Android 4.1 MT6589 Quad Core 1.2GHz D...</td>\n",
       "      <td>ZTE</td>\n",
       "      <td>167.22</td>\n",
       "      <td>2</td>\n",
       "      <td>Not as expected so I returned this phone</td>\n",
       "      <td>0.0</td>\n",
       "      <td>expect return phone</td>\n",
       "      <td>Neutral</td>\n",
       "      <td>0</td>\n",
       "    </tr>\n",
       "    <tr>\n",
       "      <th>384272</th>\n",
       "      <td>ZTE V987 Android 4.1 MT6589 Quad Core 1.2GHz D...</td>\n",
       "      <td>ZTE</td>\n",
       "      <td>167.22</td>\n",
       "      <td>5</td>\n",
       "      <td>very well</td>\n",
       "      <td>0.0</td>\n",
       "      <td>well</td>\n",
       "      <td>Positive</td>\n",
       "      <td>1</td>\n",
       "    </tr>\n",
       "    <tr>\n",
       "      <th>384273</th>\n",
       "      <td>ZTE V987 Android 4.1 MT6589 Quad Core 1.2GHz D...</td>\n",
       "      <td>ZTE</td>\n",
       "      <td>167.22</td>\n",
       "      <td>5</td>\n",
       "      <td>excelente</td>\n",
       "      <td>0.0</td>\n",
       "      <td>excelent</td>\n",
       "      <td>Neutral</td>\n",
       "      <td>0</td>\n",
       "    </tr>\n",
       "    <tr>\n",
       "      <th>384274</th>\n",
       "      <td>ZTE V987 Android 4.1 MT6589 Quad Core 1.2GHz D...</td>\n",
       "      <td>ZTE</td>\n",
       "      <td>167.22</td>\n",
       "      <td>5</td>\n",
       "      <td>great product! i loved!</td>\n",
       "      <td>0.0</td>\n",
       "      <td>great product love</td>\n",
       "      <td>Positive</td>\n",
       "      <td>1</td>\n",
       "    </tr>\n",
       "  </tbody>\n",
       "</table>\n",
       "<p>380526 rows × 9 columns</p>\n",
       "</div>"
      ],
      "text/plain": [
       "                                                  Product    Brand   Price  \\\n",
       "0       \"CLEAR CLEAN ESN\" Sprint EPIC 4G Galaxy SPH-D7...  Samsung  199.99   \n",
       "1       \"CLEAR CLEAN ESN\" Sprint EPIC 4G Galaxy SPH-D7...  Samsung  199.99   \n",
       "2       \"CLEAR CLEAN ESN\" Sprint EPIC 4G Galaxy SPH-D7...  Samsung  199.99   \n",
       "3       \"CLEAR CLEAN ESN\" Sprint EPIC 4G Galaxy SPH-D7...  Samsung  199.99   \n",
       "4       \"CLEAR CLEAN ESN\" Sprint EPIC 4G Galaxy SPH-D7...  Samsung  199.99   \n",
       "...                                                   ...      ...     ...   \n",
       "384270  ZTE V987 Android 4.1 MT6589 Quad Core 1.2GHz D...      ZTE  167.22   \n",
       "384271  ZTE V987 Android 4.1 MT6589 Quad Core 1.2GHz D...      ZTE  167.22   \n",
       "384272  ZTE V987 Android 4.1 MT6589 Quad Core 1.2GHz D...      ZTE  167.22   \n",
       "384273  ZTE V987 Android 4.1 MT6589 Quad Core 1.2GHz D...      ZTE  167.22   \n",
       "384274  ZTE V987 Android 4.1 MT6589 Quad Core 1.2GHz D...      ZTE  167.22   \n",
       "\n",
       "        Rating                                            Reviews  \\\n",
       "0            5  I feel so LUCKY to have found this used (phone...   \n",
       "1            4  nice phone, nice up grade from my pantach revu...   \n",
       "2            5                                       Very pleased   \n",
       "3            4  It works good but it goes slow sometimes but i...   \n",
       "4            4  Great phone to replace my lost phone. The only...   \n",
       "...        ...                                                ...   \n",
       "384270       5                                          EXCELENTE   \n",
       "384271       2           Not as expected so I returned this phone   \n",
       "384272       5                                          very well   \n",
       "384273       5                                          excelente   \n",
       "384274       5                            great product! i loved!   \n",
       "\n",
       "        ReviewVotes                                     CleanedReviews  \\\n",
       "0               1.0  feel lucki phone hard phone upgrad sell son ol...   \n",
       "1               0.0  nice phone nice grade pantach revu clean set e...   \n",
       "2               0.0                                              pleas   \n",
       "3               0.0                     work good slow good phone love   \n",
       "4               0.0  great phone replac lose phone thing volum butt...   \n",
       "...             ...                                                ...   \n",
       "384270          0.0                                           excelent   \n",
       "384271          0.0                                expect return phone   \n",
       "384272          0.0                                               well   \n",
       "384273          0.0                                           excelent   \n",
       "384274          0.0                                 great product love   \n",
       "\n",
       "        Polarity  Polarity_Index  \n",
       "0       Positive               1  \n",
       "1       Positive               1  \n",
       "2        Neutral               0  \n",
       "3       Positive               1  \n",
       "4       Positive               1  \n",
       "...          ...             ...  \n",
       "384270   Neutral               0  \n",
       "384271   Neutral               0  \n",
       "384272  Positive               1  \n",
       "384273   Neutral               0  \n",
       "384274  Positive               1  \n",
       "\n",
       "[380526 rows x 9 columns]"
      ]
     },
     "execution_count": 240,
     "metadata": {},
     "output_type": "execute_result"
    }
   ],
   "source": [
    "# Insert polarity into dataset\n",
    "cleanDF[\"Polarity\"] = polarity\n",
    "cleanDF[\"Polarity_Index\"] = polarity_index\n",
    "cleanDF"
   ]
  },
  {
   "cell_type": "markdown",
   "metadata": {},
   "source": [
    "From the previous EDA, it is observed that 'Samsung', 'Apple', 'BLU', 'LG' and 'Blackberry' are the top brands with most reviews."
   ]
  },
  {
   "cell_type": "code",
   "execution_count": 241,
   "metadata": {},
   "outputs": [
    {
     "data": {
      "text/html": [
       "<div>\n",
       "<style scoped>\n",
       "    .dataframe tbody tr th:only-of-type {\n",
       "        vertical-align: middle;\n",
       "    }\n",
       "\n",
       "    .dataframe tbody tr th {\n",
       "        vertical-align: top;\n",
       "    }\n",
       "\n",
       "    .dataframe thead th {\n",
       "        text-align: right;\n",
       "    }\n",
       "</style>\n",
       "<table border=\"1\" class=\"dataframe\">\n",
       "  <thead>\n",
       "    <tr style=\"text-align: right;\">\n",
       "      <th></th>\n",
       "      <th>Product</th>\n",
       "      <th>Brand</th>\n",
       "      <th>Price</th>\n",
       "      <th>Rating</th>\n",
       "      <th>Reviews</th>\n",
       "      <th>ReviewVotes</th>\n",
       "      <th>CleanedReviews</th>\n",
       "      <th>Polarity</th>\n",
       "      <th>Polarity_Index</th>\n",
       "    </tr>\n",
       "  </thead>\n",
       "  <tbody>\n",
       "    <tr>\n",
       "      <th>0</th>\n",
       "      <td>\"CLEAR CLEAN ESN\" Sprint EPIC 4G Galaxy SPH-D7...</td>\n",
       "      <td>Samsung</td>\n",
       "      <td>199.99</td>\n",
       "      <td>5</td>\n",
       "      <td>I feel so LUCKY to have found this used (phone...</td>\n",
       "      <td>1.0</td>\n",
       "      <td>feel lucki phone hard phone upgrad sell son ol...</td>\n",
       "      <td>Positive</td>\n",
       "      <td>1</td>\n",
       "    </tr>\n",
       "    <tr>\n",
       "      <th>1</th>\n",
       "      <td>\"CLEAR CLEAN ESN\" Sprint EPIC 4G Galaxy SPH-D7...</td>\n",
       "      <td>Samsung</td>\n",
       "      <td>199.99</td>\n",
       "      <td>4</td>\n",
       "      <td>nice phone, nice up grade from my pantach revu...</td>\n",
       "      <td>0.0</td>\n",
       "      <td>nice phone nice grade pantach revu clean set e...</td>\n",
       "      <td>Positive</td>\n",
       "      <td>1</td>\n",
       "    </tr>\n",
       "    <tr>\n",
       "      <th>2</th>\n",
       "      <td>\"CLEAR CLEAN ESN\" Sprint EPIC 4G Galaxy SPH-D7...</td>\n",
       "      <td>Samsung</td>\n",
       "      <td>199.99</td>\n",
       "      <td>5</td>\n",
       "      <td>Very pleased</td>\n",
       "      <td>0.0</td>\n",
       "      <td>pleas</td>\n",
       "      <td>Neutral</td>\n",
       "      <td>0</td>\n",
       "    </tr>\n",
       "    <tr>\n",
       "      <th>3</th>\n",
       "      <td>\"CLEAR CLEAN ESN\" Sprint EPIC 4G Galaxy SPH-D7...</td>\n",
       "      <td>Samsung</td>\n",
       "      <td>199.99</td>\n",
       "      <td>4</td>\n",
       "      <td>It works good but it goes slow sometimes but i...</td>\n",
       "      <td>0.0</td>\n",
       "      <td>work good slow good phone love</td>\n",
       "      <td>Positive</td>\n",
       "      <td>1</td>\n",
       "    </tr>\n",
       "    <tr>\n",
       "      <th>4</th>\n",
       "      <td>\"CLEAR CLEAN ESN\" Sprint EPIC 4G Galaxy SPH-D7...</td>\n",
       "      <td>Samsung</td>\n",
       "      <td>199.99</td>\n",
       "      <td>4</td>\n",
       "      <td>Great phone to replace my lost phone. The only...</td>\n",
       "      <td>0.0</td>\n",
       "      <td>great phone replac lose phone thing volum butt...</td>\n",
       "      <td>Positive</td>\n",
       "      <td>1</td>\n",
       "    </tr>\n",
       "    <tr>\n",
       "      <th>...</th>\n",
       "      <td>...</td>\n",
       "      <td>...</td>\n",
       "      <td>...</td>\n",
       "      <td>...</td>\n",
       "      <td>...</td>\n",
       "      <td>...</td>\n",
       "      <td>...</td>\n",
       "      <td>...</td>\n",
       "      <td>...</td>\n",
       "    </tr>\n",
       "    <tr>\n",
       "      <th>383199</th>\n",
       "      <td>Verizon or PagePlus Samsung Smooth U350 Great ...</td>\n",
       "      <td>Samsung</td>\n",
       "      <td>10.44</td>\n",
       "      <td>1</td>\n",
       "      <td>The phone I received was a pre-paid phone and ...</td>\n",
       "      <td>6.0</td>\n",
       "      <td>phone receiv prepaid phone verizon activ accou...</td>\n",
       "      <td>Neutral</td>\n",
       "      <td>0</td>\n",
       "    </tr>\n",
       "    <tr>\n",
       "      <th>383200</th>\n",
       "      <td>Verizon or PagePlus Samsung Smooth U350 Great ...</td>\n",
       "      <td>Samsung</td>\n",
       "      <td>10.44</td>\n",
       "      <td>1</td>\n",
       "      <td>I purchased this phone as a replacement for an...</td>\n",
       "      <td>11.0</td>\n",
       "      <td>purchas phone replac phone arriv activ verizon...</td>\n",
       "      <td>Neutral</td>\n",
       "      <td>0</td>\n",
       "    </tr>\n",
       "    <tr>\n",
       "      <th>383201</th>\n",
       "      <td>Verizon or PagePlus Samsung Smooth U350 Great ...</td>\n",
       "      <td>Samsung</td>\n",
       "      <td>10.44</td>\n",
       "      <td>4</td>\n",
       "      <td>We purchased this Samsung U350 CDMA flip phone...</td>\n",
       "      <td>NaN</td>\n",
       "      <td>purchas samsung cdma flip phone replac phone p...</td>\n",
       "      <td>Positive</td>\n",
       "      <td>1</td>\n",
       "    </tr>\n",
       "    <tr>\n",
       "      <th>383202</th>\n",
       "      <td>Verizon or PagePlus Samsung Smooth U350 Great ...</td>\n",
       "      <td>Samsung</td>\n",
       "      <td>10.44</td>\n",
       "      <td>5</td>\n",
       "      <td>I am handicapped and aged. I needed a Cell pho...</td>\n",
       "      <td>4.0</td>\n",
       "      <td>handicap age need cell phone emerg road camera...</td>\n",
       "      <td>Negative</td>\n",
       "      <td>-1</td>\n",
       "    </tr>\n",
       "    <tr>\n",
       "      <th>383203</th>\n",
       "      <td>Verizon or PagePlus Samsung Smooth U350 Great ...</td>\n",
       "      <td>Samsung</td>\n",
       "      <td>10.44</td>\n",
       "      <td>4</td>\n",
       "      <td>My phone arrived without a charger! well The p...</td>\n",
       "      <td>NaN</td>\n",
       "      <td>phone arriv charger well pack pretti bubbl wra...</td>\n",
       "      <td>Positive</td>\n",
       "      <td>1</td>\n",
       "    </tr>\n",
       "  </tbody>\n",
       "</table>\n",
       "<p>275945 rows × 9 columns</p>\n",
       "</div>"
      ],
      "text/plain": [
       "                                                  Product    Brand   Price  \\\n",
       "0       \"CLEAR CLEAN ESN\" Sprint EPIC 4G Galaxy SPH-D7...  Samsung  199.99   \n",
       "1       \"CLEAR CLEAN ESN\" Sprint EPIC 4G Galaxy SPH-D7...  Samsung  199.99   \n",
       "2       \"CLEAR CLEAN ESN\" Sprint EPIC 4G Galaxy SPH-D7...  Samsung  199.99   \n",
       "3       \"CLEAR CLEAN ESN\" Sprint EPIC 4G Galaxy SPH-D7...  Samsung  199.99   \n",
       "4       \"CLEAR CLEAN ESN\" Sprint EPIC 4G Galaxy SPH-D7...  Samsung  199.99   \n",
       "...                                                   ...      ...     ...   \n",
       "383199  Verizon or PagePlus Samsung Smooth U350 Great ...  Samsung   10.44   \n",
       "383200  Verizon or PagePlus Samsung Smooth U350 Great ...  Samsung   10.44   \n",
       "383201  Verizon or PagePlus Samsung Smooth U350 Great ...  Samsung   10.44   \n",
       "383202  Verizon or PagePlus Samsung Smooth U350 Great ...  Samsung   10.44   \n",
       "383203  Verizon or PagePlus Samsung Smooth U350 Great ...  Samsung   10.44   \n",
       "\n",
       "        Rating                                            Reviews  \\\n",
       "0            5  I feel so LUCKY to have found this used (phone...   \n",
       "1            4  nice phone, nice up grade from my pantach revu...   \n",
       "2            5                                       Very pleased   \n",
       "3            4  It works good but it goes slow sometimes but i...   \n",
       "4            4  Great phone to replace my lost phone. The only...   \n",
       "...        ...                                                ...   \n",
       "383199       1  The phone I received was a pre-paid phone and ...   \n",
       "383200       1  I purchased this phone as a replacement for an...   \n",
       "383201       4  We purchased this Samsung U350 CDMA flip phone...   \n",
       "383202       5  I am handicapped and aged. I needed a Cell pho...   \n",
       "383203       4  My phone arrived without a charger! well The p...   \n",
       "\n",
       "        ReviewVotes                                     CleanedReviews  \\\n",
       "0               1.0  feel lucki phone hard phone upgrad sell son ol...   \n",
       "1               0.0  nice phone nice grade pantach revu clean set e...   \n",
       "2               0.0                                              pleas   \n",
       "3               0.0                     work good slow good phone love   \n",
       "4               0.0  great phone replac lose phone thing volum butt...   \n",
       "...             ...                                                ...   \n",
       "383199          6.0  phone receiv prepaid phone verizon activ accou...   \n",
       "383200         11.0  purchas phone replac phone arriv activ verizon...   \n",
       "383201          NaN  purchas samsung cdma flip phone replac phone p...   \n",
       "383202          4.0  handicap age need cell phone emerg road camera...   \n",
       "383203          NaN  phone arriv charger well pack pretti bubbl wra...   \n",
       "\n",
       "        Polarity  Polarity_Index  \n",
       "0       Positive               1  \n",
       "1       Positive               1  \n",
       "2        Neutral               0  \n",
       "3       Positive               1  \n",
       "4       Positive               1  \n",
       "...          ...             ...  \n",
       "383199   Neutral               0  \n",
       "383200   Neutral               0  \n",
       "383201  Positive               1  \n",
       "383202  Negative              -1  \n",
       "383203  Positive               1  \n",
       "\n",
       "[275945 rows x 9 columns]"
      ]
     },
     "execution_count": 241,
     "metadata": {},
     "output_type": "execute_result"
    }
   ],
   "source": [
    "# Create another dataset with top 5 brands products only\n",
    "topBrandDF = cleanDF[cleanDF['Brand'].isin(['Samsung', 'Apple', 'BLU', 'LG', 'BlackBerry'])]\n",
    "topBrandDF"
   ]
  },
  {
   "cell_type": "markdown",
   "metadata": {},
   "source": [
    "#### Total number of reviews correspinding to polarity for top 5 brands"
   ]
  },
  {
   "cell_type": "code",
   "execution_count": 242,
   "metadata": {},
   "outputs": [
    {
     "data": {
      "text/html": [
       "<div>\n",
       "<style scoped>\n",
       "    .dataframe tbody tr th:only-of-type {\n",
       "        vertical-align: middle;\n",
       "    }\n",
       "\n",
       "    .dataframe tbody tr th {\n",
       "        vertical-align: top;\n",
       "    }\n",
       "\n",
       "    .dataframe thead th {\n",
       "        text-align: right;\n",
       "    }\n",
       "</style>\n",
       "<table border=\"1\" class=\"dataframe\">\n",
       "  <thead>\n",
       "    <tr style=\"text-align: right;\">\n",
       "      <th></th>\n",
       "      <th>Brand</th>\n",
       "      <th>Polarity</th>\n",
       "      <th>Total</th>\n",
       "    </tr>\n",
       "  </thead>\n",
       "  <tbody>\n",
       "    <tr>\n",
       "      <th>0</th>\n",
       "      <td>Apple</td>\n",
       "      <td>Negative</td>\n",
       "      <td>10606</td>\n",
       "    </tr>\n",
       "    <tr>\n",
       "      <th>1</th>\n",
       "      <td>Apple</td>\n",
       "      <td>Neutral</td>\n",
       "      <td>16125</td>\n",
       "    </tr>\n",
       "    <tr>\n",
       "      <th>2</th>\n",
       "      <td>Apple</td>\n",
       "      <td>Positive</td>\n",
       "      <td>48039</td>\n",
       "    </tr>\n",
       "    <tr>\n",
       "      <th>3</th>\n",
       "      <td>BLU</td>\n",
       "      <td>Negative</td>\n",
       "      <td>9381</td>\n",
       "    </tr>\n",
       "    <tr>\n",
       "      <th>4</th>\n",
       "      <td>BLU</td>\n",
       "      <td>Neutral</td>\n",
       "      <td>11694</td>\n",
       "    </tr>\n",
       "    <tr>\n",
       "      <th>5</th>\n",
       "      <td>BLU</td>\n",
       "      <td>Positive</td>\n",
       "      <td>44860</td>\n",
       "    </tr>\n",
       "    <tr>\n",
       "      <th>6</th>\n",
       "      <td>BlackBerry</td>\n",
       "      <td>Negative</td>\n",
       "      <td>3164</td>\n",
       "    </tr>\n",
       "    <tr>\n",
       "      <th>7</th>\n",
       "      <td>BlackBerry</td>\n",
       "      <td>Neutral</td>\n",
       "      <td>5199</td>\n",
       "    </tr>\n",
       "    <tr>\n",
       "      <th>8</th>\n",
       "      <td>BlackBerry</td>\n",
       "      <td>Positive</td>\n",
       "      <td>11629</td>\n",
       "    </tr>\n",
       "    <tr>\n",
       "      <th>9</th>\n",
       "      <td>LG</td>\n",
       "      <td>Negative</td>\n",
       "      <td>4440</td>\n",
       "    </tr>\n",
       "    <tr>\n",
       "      <th>10</th>\n",
       "      <td>LG</td>\n",
       "      <td>Neutral</td>\n",
       "      <td>5411</td>\n",
       "    </tr>\n",
       "    <tr>\n",
       "      <th>11</th>\n",
       "      <td>LG</td>\n",
       "      <td>Positive</td>\n",
       "      <td>21482</td>\n",
       "    </tr>\n",
       "    <tr>\n",
       "      <th>12</th>\n",
       "      <td>Samsung</td>\n",
       "      <td>Negative</td>\n",
       "      <td>11129</td>\n",
       "    </tr>\n",
       "    <tr>\n",
       "      <th>13</th>\n",
       "      <td>Samsung</td>\n",
       "      <td>Neutral</td>\n",
       "      <td>15812</td>\n",
       "    </tr>\n",
       "    <tr>\n",
       "      <th>14</th>\n",
       "      <td>Samsung</td>\n",
       "      <td>Positive</td>\n",
       "      <td>56974</td>\n",
       "    </tr>\n",
       "  </tbody>\n",
       "</table>\n",
       "</div>"
      ],
      "text/plain": [
       "         Brand  Polarity  Total\n",
       "0        Apple  Negative  10606\n",
       "1        Apple   Neutral  16125\n",
       "2        Apple  Positive  48039\n",
       "3          BLU  Negative   9381\n",
       "4          BLU   Neutral  11694\n",
       "5          BLU  Positive  44860\n",
       "6   BlackBerry  Negative   3164\n",
       "7   BlackBerry   Neutral   5199\n",
       "8   BlackBerry  Positive  11629\n",
       "9           LG  Negative   4440\n",
       "10          LG   Neutral   5411\n",
       "11          LG  Positive  21482\n",
       "12     Samsung  Negative  11129\n",
       "13     Samsung   Neutral  15812\n",
       "14     Samsung  Positive  56974"
      ]
     },
     "execution_count": 242,
     "metadata": {},
     "output_type": "execute_result"
    }
   ],
   "source": [
    "#topBrandDF.groupby(['Brand','Polarity']).size()\n",
    "topBrandDF = topBrandDF.groupby(['Brand','Polarity']).size().to_frame('Total').reset_index()\n",
    "topBrandDF"
   ]
  },
  {
   "cell_type": "markdown",
   "metadata": {},
   "source": [
    "#### Plot graph"
   ]
  },
  {
   "cell_type": "code",
   "execution_count": 243,
   "metadata": {},
   "outputs": [
    {
     "data": {
      "text/plain": [
       "<seaborn.axisgrid.FacetGrid at 0x25c564d9308>"
      ]
     },
     "execution_count": 243,
     "metadata": {},
     "output_type": "execute_result"
    },
    {
     "data": {
      "image/png": "[encoded data removed]",
      "text/plain": [
       "<Figure size 515.225x432 with 1 Axes>"
      ]
     },
     "metadata": {},
     "output_type": "display_data"
    }
   ],
   "source": [
    "import seaborn as sns\n",
    "sns.set(style=\"whitegrid\")\n",
    "ax = sns.catplot(x=\"Brand\", y=\"Total\", hue=\"Polarity\", data=topBrandDF,\n",
    "                height=6, kind=\"bar\", palette=\"muted\")\n",
    "ax.despine(left=True)\n",
    "ax.set_titles(\"Brands and Review Polarity\")  # use this argument literally\n",
    "ax.set_axis_labels(x_var=\"Brands\", y_var=\"Number of Reviews\")"
   ]
  },
  {
   "cell_type": "code",
   "execution_count": 5,
   "metadata": {},
   "outputs": [],
   "source": [
    "#df = pd.DataFrame(cleanDF)\n",
    "#df.to_csv (r'C:\\Users\\FORGE-15 I7\\OneDrive - AsiaPay Limited\\Sem 3\\Project\\cleanDF_0328_3.csv', index = False, header=True)\n",
    "#cleanDF = pd.read_csv(r'C:\\Users\\FORGE-15 I7\\OneDrive - AsiaPay Limited\\Sem 3\\Project\\cleanDF_0328_3.csv')\n",
    "#cleanDF"
   ]
  },
  {
   "cell_type": "markdown",
   "metadata": {},
   "source": [
    "## Modelling and Evaluation"
   ]
  },
  {
   "cell_type": "code",
   "execution_count": 283,
   "metadata": {},
   "outputs": [],
   "source": [
    "# Split into testing set and training set\n",
    "x_train, x_test, y_train, y_test = train_test_split(\n",
    "    cleanDF.Reviews, cleanDF.Polarity_Index, random_state=0)\n",
    "#x_train.isnull().sum()"
   ]
  },
  {
   "cell_type": "code",
   "execution_count": 285,
   "metadata": {},
   "outputs": [
    {
     "name": "stdout",
     "output_type": "stream",
     "text": [
      "X_train:\n",
      "<285394x20458 sparse matrix of type '<class 'numpy.int64'>'\n",
      "\twith 7806316 stored elements in Compressed Sparse Row format>\n",
      "Number of features: 20458\n"
     ]
    }
   ],
   "source": [
    "# Vectorize X_train\n",
    "vectorizer = CountVectorizer(min_df=5).fit(x_train)\n",
    "X_train = vectorizer.transform(x_train)\n",
    "print(\"X_train:\\n{}\".format(repr(X_train)))\n",
    "\n",
    "feature_names = vectorizer.get_feature_names()\n",
    "print(\"Number of features: {}\".format(len(feature_names)))\n"
   ]
  },
  {
   "cell_type": "markdown",
   "metadata": {},
   "source": [
    "#### Logistic Regression"
   ]
  },
  {
   "cell_type": "code",
   "execution_count": 286,
   "metadata": {},
   "outputs": [
    {
     "name": "stdout",
     "output_type": "stream",
     "text": [
      "Accuracy:   0.948\n",
      "Training set score: 0.956\n",
      "Test set score: 0.948\n"
     ]
    }
   ],
   "source": [
    "logreg = LogisticRegression(C=0.1, solver='lbfgs', multi_class='auto', max_iter=3000).fit(X_train, y_train)\n",
    "\n",
    "X_test = vectorizer.transform(x_test)\n",
    "\n",
    "log_y_pred = logreg.predict(X_test)\n",
    "\n",
    "logreg_score = accuracy_score(y_test, log_y_pred)\n",
    "\n",
    "print(\"Accuracy:   {:.3f}\".format(logreg_score))\n",
    "print(\"Training set score: {:.3f}\".format(logreg.score(X_train, y_train)))\n",
    "print(\"Test set score: {:.3f}\".format(logreg.score(X_test, y_test)))"
   ]
  },
  {
   "cell_type": "code",
   "execution_count": 291,
   "metadata": {},
   "outputs": [
    {
     "name": "stdout",
     "output_type": "stream",
     "text": [
      "Confusion matrix:\n",
      "[[11543   818  1404]\n",
      " [  366 16874   752]\n",
      " [  937   664 61774]]\n",
      "\n",
      "---------------\n"
     ]
    }
   ],
   "source": [
    "# Confusion Matrix\n",
    "log_cfm = confusion_matrix(y_test, log_y_pred)\n",
    "print(\"Confusion matrix:\")\n",
    "print(log_cfm, end='\\n\\n')\n",
    "print('-'*15)\n",
    "#print(np.array([['TN', 'FP'],[ 'FN' , 'TP']]))"
   ]
  },
  {
   "cell_type": "code",
   "execution_count": 294,
   "metadata": {},
   "outputs": [
    {
     "name": "stdout",
     "output_type": "stream",
     "text": [
      "Logistic Reg - F1 score: 0.922\n"
     ]
    },
    {
     "data": {
      "image/png": "[encoded data removed]",
      "text/plain": [
       "<Figure size 432x288 with 2 Axes>"
      ]
     },
     "metadata": {
      "needs_background": "light"
     },
     "output_type": "display_data"
    }
   ],
   "source": [
    "# Plot Confustion Matrix\n",
    "plt.imshow(log_cfm, interpolation='nearest')\n",
    "\n",
    "for i, j in itertools.product(range(log_cfm.shape[0]), range(log_cfm.shape[1])):\n",
    "    plt.text(j, i, log_cfm[i, j],\n",
    "             horizontalalignment=\"center\",\n",
    "             color=\"white\")\n",
    "\n",
    "plt.ylabel('True label (Recall)')\n",
    "plt.xlabel('Predicted label (Precision)')\n",
    "plt.title('Logistic Reg | Confusion Matrix')\n",
    "plt.colorbar();\n",
    "\n",
    "log_f1 = f1_score(y_test, log_y_pred, average='macro')\n",
    "print(\"Logistic Reg - F1 score: {:.3f}\".format(log_f1))"
   ]
  },
  {
   "cell_type": "markdown",
   "metadata": {},
   "source": [
    "#### XGBoost"
   ]
  },
  {
   "cell_type": "code",
   "execution_count": 300,
   "metadata": {},
   "outputs": [
    {
     "name": "stdout",
     "output_type": "stream",
     "text": [
      "Accuracy:   0.933\n",
      "Training set score: 0.941\n",
      "Test set score: 0.933\n"
     ]
    }
   ],
   "source": [
    "xgb = XGBClassifier().fit(X_train, y_train)\n",
    "\n",
    "X_test = vectorizer.transform(x_test)\n",
    "\n",
    "xgb_y_pred = xgb.predict(X_test)\n",
    "\n",
    "xgb_scores = accuracy_score(y_test, xgb_y_pred)\n",
    "\n",
    "print(\"Accuracy:   {:.3f}\".format(xgb_scores))\n",
    "print(\"Training set score: {:.3f}\".format(xgb.score(X_train, y_train)))\n",
    "print(\"Test set score: {:.3f}\".format(xgb.score(X_test, y_test)))"
   ]
  },
  {
   "cell_type": "code",
   "execution_count": 301,
   "metadata": {},
   "outputs": [
    {
     "name": "stdout",
     "output_type": "stream",
     "text": [
      "Confusion matrix:\n",
      "[[11543   818  1404]\n",
      " [  366 16874   752]\n",
      " [  937   664 61774]]\n",
      "\n",
      "---------------\n"
     ]
    }
   ],
   "source": [
    "# Confusion Matrix\n",
    "xgb_cfm = confusion_matrix(y_test, log_y_pred)\n",
    "print(\"Confusion matrix:\")\n",
    "print(xgb_cfm, end='\\n\\n')\n",
    "print('-'*15)"
   ]
  },
  {
   "cell_type": "code",
   "execution_count": 302,
   "metadata": {},
   "outputs": [
    {
     "name": "stdout",
     "output_type": "stream",
     "text": [
      "XGBoost - F1 score: 0.922\n"
     ]
    },
    {
     "data": {
      "image/png": "[encoded data removed]",
      "text/plain": [
       "<Figure size 432x288 with 2 Axes>"
      ]
     },
     "metadata": {
      "needs_background": "light"
     },
     "output_type": "display_data"
    }
   ],
   "source": [
    "# Plot Confustion Matrix\n",
    "plt.imshow(xgb_cfm, interpolation='nearest')\n",
    "\n",
    "for i, j in itertools.product(range(xgb_cfm.shape[0]), range(xgb_cfm.shape[1])):\n",
    "    plt.text(j, i, xgb_cfm[i, j],\n",
    "             horizontalalignment=\"center\",\n",
    "             color=\"white\")\n",
    "\n",
    "plt.ylabel('True label (Recall)')\n",
    "plt.xlabel('Predicted label (Precision)')\n",
    "plt.title('XGBoost | Confusion Matrix')\n",
    "plt.colorbar();\n",
    "\n",
    "xgb_f1 = f1_score(y_test, log_y_pred, average='macro')\n",
    "print(\"XGBoost - F1 score: {:.3f}\".format(xgb_f1))"
   ]
  },
  {
   "cell_type": "code",
   "execution_count": 296,
   "metadata": {},
   "outputs": [
    {
     "name": "stdout",
     "output_type": "stream",
     "text": [
      "Mean cross-validation accuracy: 0.933\n"
     ]
    }
   ],
   "source": [
    "xgb_scores = cross_val_score(XGBClassifier(), X_train, y_train, cv=5)\n",
    "print(\"Mean cross-validation accuracy: {:.3f}\".format(np.mean(xgb_scores)))"
   ]
  },
  {
   "cell_type": "markdown",
   "metadata": {},
   "source": [
    "## WordCloud"
   ]
  },
  {
   "cell_type": "markdown",
   "metadata": {},
   "source": [
    "#### Determine the most occurance words for both positive and negative reviews"
   ]
  },
  {
   "cell_type": "code",
   "execution_count": 10,
   "metadata": {},
   "outputs": [],
   "source": [
    "# Define function to get most common word\n",
    "def getMostCommon(reviews_list,topn=20):\n",
    "    reviews=\" \".join(reviews_list)\n",
    "    tokenised_reviews=reviews.split(\" \")\n",
    "    freq_counter=Counter(tokenised_reviews)\n",
    "    return freq_counter.most_common(topn)"
   ]
  },
  {
   "cell_type": "code",
   "execution_count": 8,
   "metadata": {},
   "outputs": [
    {
     "data": {
      "text/plain": [
       "0         feel lucki phone hard phone upgrad sell son ol...\n",
       "1         nice phone nice grade pantach revu clean set e...\n",
       "3                            work good slow good phone love\n",
       "4         great phone replac lose phone thing volum butt...\n",
       "5         phone problem state dang state charg read comm...\n",
       "                                ...                        \n",
       "380513                                                excel\n",
       "380514    phone best ive fill expect term perform want p...\n",
       "380519    live santo domingo phone big drop ive life dev...\n",
       "380523                                                 well\n",
       "380525                                   great product love\n",
       "Name: CleanedReviews, Length: 253677, dtype: object"
      ]
     },
     "execution_count": 8,
     "metadata": {},
     "output_type": "execute_result"
    }
   ],
   "source": [
    "positiveReviews = cleanDF[cleanDF.Polarity_Index == 1]['CleanedReviews']\n",
    "positiveReviews"
   ]
  },
  {
   "cell_type": "code",
   "execution_count": 82,
   "metadata": {},
   "outputs": [
    {
     "data": {
      "text/plain": [
       "[('phone', 336674),\n",
       " ('great', 93904),\n",
       " ('good', 88600),\n",
       " ('work', 82750),\n",
       " ('love', 54264),\n",
       " ('well', 45912),\n",
       " ('screen', 41635),\n",
       " ('batteri', 37972),\n",
       " ('excel', 31408),\n",
       " ('camera', 30930),\n",
       " ('price', 30608),\n",
       " ('time', 30098),\n",
       " ('app', 28149),\n",
       " ('perfect', 26087),\n",
       " ('product', 25560),\n",
       " ('nice', 24826),\n",
       " ('buy', 24146),\n",
       " ('sim', 23269),\n",
       " ('card', 23182),\n",
       " ('day', 22706),\n",
       " ('iphon', 22629),\n",
       " ('dont', 21647),\n",
       " ('bought', 21244),\n",
       " ('fast', 20167),\n",
       " ('purchas', 19318),\n",
       " ('recommend', 18874),\n",
       " ('problem', 18738),\n",
       " ('qualiti', 18703),\n",
       " ('charg', 18150),\n",
       " ('android', 17728)]"
      ]
     },
     "execution_count": 82,
     "metadata": {},
     "output_type": "execute_result"
    }
   ],
   "source": [
    "topPositive_words=getMostCommon(positiveReviews, topn=30)\n",
    "topPositive_words"
   ]
  },
  {
   "cell_type": "code",
   "execution_count": 83,
   "metadata": {},
   "outputs": [
    {
     "data": {
      "text/plain": [
       "19        sprint activ phone block issu phone matter han...\n",
       "24        phone speaker low happi phone purchas cell pho...\n",
       "32                              phone bad charger port send\n",
       "37             phone work plan whatsapp problem chang idiom\n",
       "44          love phone problem problem onlyonc mic mic beat\n",
       "                                ...                        \n",
       "380505             unabl dil receiv call useless wast money\n",
       "380506           servic connect ergo portal phone worthless\n",
       "380511                       port problem micro card recogn\n",
       "380517    disappoint phone receiv present problem heat i...\n",
       "380518        problem cell invalid imei articl countri week\n",
       "Name: CleanedReviews, Length: 54793, dtype: object"
      ]
     },
     "execution_count": 83,
     "metadata": {},
     "output_type": "execute_result"
    }
   ],
   "source": [
    "negativeReviews = cleanDF[cleanDF.Polarity_Index == -1]['CleanedReviews']\n",
    "negativeReviews"
   ]
  },
  {
   "cell_type": "code",
   "execution_count": 84,
   "metadata": {},
   "outputs": [
    {
     "data": {
      "text/plain": [
       "[('phone', 87895),\n",
       " ('work', 20728),\n",
       " ('problem', 14561),\n",
       " ('batteri', 12120),\n",
       " ('screen', 11840),\n",
       " ('bad', 11166),\n",
       " ('time', 9860),\n",
       " ('buy', 9402),\n",
       " ('month', 8339),\n",
       " ('charg', 8275),\n",
       " ('dont', 7397),\n",
       " ('day', 7361),\n",
       " ('bought', 7328),\n",
       " ('return', 6718),\n",
       " ('purchas', 6295),\n",
       " ('product', 5750),\n",
       " ('sim', 5579),\n",
       " ('disappoint', 5428),\n",
       " ('card', 5354),\n",
       " ('app', 5336),\n",
       " ('turn', 5290),\n",
       " ('well', 5279),\n",
       " ('receiv', 5232),\n",
       " ('good', 5186),\n",
       " ('camera', 5041),\n",
       " ('unlock', 4834),\n",
       " ('stop', 4745),\n",
       " ('week', 4621),\n",
       " ('doesnt', 4602),\n",
       " ('seller', 4461)]"
      ]
     },
     "execution_count": 84,
     "metadata": {},
     "output_type": "execute_result"
    }
   ],
   "source": [
    "topNegative_words=getMostCommon(negativeReviews, topn=30)\n",
    "topNegative_words"
   ]
  },
  {
   "cell_type": "markdown",
   "metadata": {},
   "source": [
    "The result observed is not satisfying since this is a dataset with phone products, thus the occurance of 'phone' might affect the result as well. Thus few related keyword have to be removed."
   ]
  },
  {
   "cell_type": "code",
   "execution_count": 85,
   "metadata": {},
   "outputs": [],
   "source": [
    "# Remove unwanted keywords\n",
    "def remove_word(text):\n",
    "    unwantedkeyword = ['phone', 'smartphone', 'cell phone', 'mobile phone', 'smart phone']\n",
    "    text = ' '.join(i for i in text.split() if i not in unwantedkeyword)\n",
    "    return text"
   ]
  },
  {
   "cell_type": "code",
   "execution_count": 86,
   "metadata": {},
   "outputs": [
    {
     "data": {
      "text/plain": [
       "[('great', 93904),\n",
       " ('good', 88600),\n",
       " ('work', 82750),\n",
       " ('love', 54264),\n",
       " ('well', 45912),\n",
       " ('screen', 41635),\n",
       " ('batteri', 37972),\n",
       " ('excel', 31408),\n",
       " ('camera', 30930),\n",
       " ('price', 30608),\n",
       " ('time', 30098),\n",
       " ('app', 28149),\n",
       " ('perfect', 26087),\n",
       " ('product', 25560),\n",
       " ('nice', 24826),\n",
       " ('buy', 24146),\n",
       " ('sim', 23269),\n",
       " ('card', 23182),\n",
       " ('day', 22706),\n",
       " ('iphon', 22629),\n",
       " ('dont', 21647),\n",
       " ('bought', 21244),\n",
       " ('fast', 20167),\n",
       " ('purchas', 19318),\n",
       " ('recommend', 18874),\n",
       " ('problem', 18738),\n",
       " ('qualiti', 18703),\n",
       " ('charg', 18150),\n",
       " ('android', 17728),\n",
       " ('best', 17704)]"
      ]
     },
     "execution_count": 86,
     "metadata": {},
     "output_type": "execute_result"
    }
   ],
   "source": [
    "# Try to get the result again after removing unwanted words\n",
    "positiveReviews_2 = positiveReviews.apply(remove_word)\n",
    "topPositive_words = getMostCommon(positiveReviews_2, topn=30)\n",
    "topPositive_words"
   ]
  },
  {
   "cell_type": "code",
   "execution_count": 87,
   "metadata": {},
   "outputs": [
    {
     "data": {
      "text/plain": [
       "[('work', 20728),\n",
       " ('problem', 14561),\n",
       " ('batteri', 12120),\n",
       " ('screen', 11840),\n",
       " ('bad', 11166),\n",
       " ('time', 9860),\n",
       " ('buy', 9402),\n",
       " ('month', 8339),\n",
       " ('charg', 8275),\n",
       " ('dont', 7397),\n",
       " ('day', 7361),\n",
       " ('bought', 7328),\n",
       " ('return', 6718),\n",
       " ('purchas', 6295),\n",
       " ('product', 5750),\n",
       " ('sim', 5579),\n",
       " ('disappoint', 5428),\n",
       " ('card', 5354),\n",
       " ('app', 5336),\n",
       " ('turn', 5290),\n",
       " ('well', 5279),\n",
       " ('receiv', 5232),\n",
       " ('good', 5186),\n",
       " ('camera', 5041),\n",
       " ('unlock', 4834),\n",
       " ('stop', 4745),\n",
       " ('week', 4621),\n",
       " ('doesnt', 4602),\n",
       " ('seller', 4461),\n",
       " ('iphon', 4441)]"
      ]
     },
     "execution_count": 87,
     "metadata": {},
     "output_type": "execute_result"
    }
   ],
   "source": [
    "# Try to get the result again after removing unwanted words\n",
    "negativeReviews_2 = negativeReviews.apply(remove_word)\n",
    "topNegative_words = getMostCommon(negativeReviews_2, topn=30)\n",
    "topNegative_words"
   ]
  },
  {
   "cell_type": "code",
   "execution_count": 88,
   "metadata": {},
   "outputs": [],
   "source": [
    "# Define function for drawing word cloud\n",
    "def PlotWordCloud(words, title):\n",
    "    wordcloud = WordCloud(width = 300, height = 300, \n",
    "                background_color ='white' \n",
    "                ).generate(words) \n",
    "                                                           \n",
    "    # plot the WordCloud image                        \n",
    "    plt.figure(figsize = (8, 6), facecolor = None) \n",
    "    plt.imshow(wordcloud) \n",
    "    plt.axis(\"off\") \n",
    "    plt.tight_layout(pad = 0) \n",
    "    plt.title(title, fontsize=50)\n",
    "    \n",
    "    plt.show()"
   ]
  },
  {
   "cell_type": "code",
   "execution_count": 89,
   "metadata": {},
   "outputs": [],
   "source": [
    "# Python program to convert a list \n",
    "# to string using join() function \n",
    "    \n",
    "# Function to convert   \n",
    "def listToString(s):  \n",
    "    \n",
    "    # initialize an empty string \n",
    "    str1 = \" \" \n",
    "    \n",
    "    # return string   \n",
    "    return (str1.join(s)) "
   ]
  },
  {
   "cell_type": "code",
   "execution_count": 90,
   "metadata": {},
   "outputs": [
    {
     "data": {
      "image/png": "[encoded data removed]",
      "text/plain": [
       "<Figure size 576x432 with 1 Axes>"
      ]
     },
     "metadata": {
      "needs_background": "light"
     },
     "output_type": "display_data"
    }
   ],
   "source": [
    "# Plot WordCloud for top positive words\n",
    "PlotWordCloud(listToString([i[0] for i in topPositive_words]), \"Top 30 Positive Words\")"
   ]
  },
  {
   "cell_type": "code",
   "execution_count": 91,
   "metadata": {},
   "outputs": [
    {
     "data": {
      "image/png": "[encoded data removed]",
      "text/plain": [
       "<Figure size 576x432 with 1 Axes>"
      ]
     },
     "metadata": {
      "needs_background": "light"
     },
     "output_type": "display_data"
    }
   ],
   "source": [
    "# Plot WordCloud for top negative words\n",
    "PlotWordCloud(listToString([i[0] for i in topNegative_words]), \"Top 30 Negative Words\")"
   ]
  },
  {
   "cell_type": "markdown",
   "metadata": {},
   "source": [
    "## Bigrams"
   ]
  },
  {
   "cell_type": "markdown",
   "metadata": {},
   "source": [
    "#### Explore top bigrams for both positive and negative reviews"
   ]
  },
  {
   "cell_type": "code",
   "execution_count": 270,
   "metadata": {},
   "outputs": [],
   "source": [
    "# Join all the positive reviews\n",
    "joinedPositiveReviews = ' '.join(positiveReviews_2)"
   ]
  },
  {
   "cell_type": "code",
   "execution_count": 271,
   "metadata": {},
   "outputs": [],
   "source": [
    "# Join all the negative reviews\n",
    "joinedNegativeReviews = ' '.join(negativeReviews_2)"
   ]
  },
  {
   "cell_type": "code",
   "execution_count": 272,
   "metadata": {},
   "outputs": [],
   "source": [
    "# Function to generate n-grams\n",
    "def generate_Ngrams(reviews, num=2):\n",
    "    token = word_tokenize(reviews)\n",
    "    ngram = ngrams(token, num)\n",
    "    return ngram"
   ]
  },
  {
   "cell_type": "markdown",
   "metadata": {},
   "source": [
    "#### Get the top 20 occurances of bigrams for positve reviews"
   ]
  },
  {
   "cell_type": "code",
   "execution_count": 273,
   "metadata": {},
   "outputs": [
    {
     "data": {
      "text/plain": [
       "[(('work', 'great'), 14350),\n",
       " (('sim', 'card'), 13250),\n",
       " (('batteri', 'life'), 12483),\n",
       " (('work', 'well'), 9871),\n",
       " (('work', 'perfect'), 7847),\n",
       " (('work', 'fine'), 5892),\n",
       " (('great', 'price'), 5196),\n",
       " (('excel', 'product'), 3915),\n",
       " (('good', 'good'), 3838),\n",
       " (('great', 'great'), 3707),\n",
       " (('good', 'price'), 3567),\n",
       " (('good', 'product'), 3377),\n",
       " (('screen', 'protector'), 3284),\n",
       " (('high', 'recommend'), 3260),\n",
       " (('samsung', 'galaxi'), 3194),\n",
       " (('great', 'product'), 3176),\n",
       " (('work', 'good'), 3123),\n",
       " (('straight', 'talk'), 3049),\n",
       " (('dual', 'sim'), 2800),\n",
       " (('love', 'love'), 2692)]"
      ]
     },
     "execution_count": 273,
     "metadata": {},
     "output_type": "execute_result"
    }
   ],
   "source": [
    "positive_reviews_bigrams = generate_Ngrams(joinedPositiveReviews, 2)\n",
    "topPositive_bi = collections.Counter(positive_reviews_bigrams).most_common(20)\n",
    "topPositive_bi"
   ]
  },
  {
   "cell_type": "markdown",
   "metadata": {},
   "source": [
    "#### Get the top 20 occurances of bigrams for positve reviews"
   ]
  },
  {
   "cell_type": "code",
   "execution_count": 274,
   "metadata": {},
   "outputs": [
    {
     "data": {
      "text/plain": [
       "[(('sim', 'card'), 3519),\n",
       " (('stop', 'work'), 3114),\n",
       " (('batteri', 'life'), 2018),\n",
       " (('doesnt', 'work'), 1387),\n",
       " (('work', 'well'), 1268),\n",
       " (('wast', 'money'), 1214),\n",
       " (('work', 'fine'), 1132),\n",
       " (('dont', 'buy'), 1058),\n",
       " (('touch', 'screen'), 975),\n",
       " (('custom', 'servic'), 939),\n",
       " (('didnt', 'work'), 820),\n",
       " (('work', 'month'), 813),\n",
       " (('work', 'proper'), 627),\n",
       " (('hold', 'charg'), 623),\n",
       " (('samsung', 'galaxi'), 596),\n",
       " (('work', 'day'), 547),\n",
       " (('month', 'ago'), 543),\n",
       " (('contact', 'seller'), 471),\n",
       " (('batteri', 'charg'), 460),\n",
       " (('power', 'button'), 452)]"
      ]
     },
     "execution_count": 274,
     "metadata": {},
     "output_type": "execute_result"
    }
   ],
   "source": [
    "negative_reviews_bigrams = generate_Ngrams(joinedNegativeReviews, 2)\n",
    "topNegative_bi = collections.Counter(negative_reviews_bigrams).most_common(20)\n",
    "topNegative_bi"
   ]
  },
  {
   "cell_type": "code",
   "execution_count": 275,
   "metadata": {},
   "outputs": [],
   "source": [
    "def plotMostCommonWords(reviews_counter,title=\"Common Review Words\",color=\"blue\",axis=None):\n",
    "    data=pd.DataFrame()\n",
    "    data['words']=[val[0] for val in reviews_counter]\n",
    "    data['freq']=[val[1] for val in reviews_counter]\n",
    "    if axis!=None:\n",
    "        sns.barplot(y='words',x='freq',data=data,color=color,ax=axis).set_title(title)\n",
    "    else:\n",
    "        sns.barplot(y='words',x='freq',data=data,color=color).set_title(title)"
   ]
  },
  {
   "cell_type": "code",
   "execution_count": 276,
   "metadata": {},
   "outputs": [
    {
     "data": {
      "image/png": "[encoded data removed]",
      "text/plain": [
       "<Figure size 864x576 with 2 Axes>"
      ]
     },
     "metadata": {
      "needs_background": "light"
     },
     "output_type": "display_data"
    }
   ],
   "source": [
    "fig,ax=plt.subplots(1,2, figsize=(12,8))\n",
    "fig.subplots_adjust(wspace=0.5) #Adjusts the space between the two plots\n",
    "plotMostCommonWords(topPositive_bi,\"Top 20 Positive Review Bigrams\",axis=ax[0])\n",
    "plotMostCommonWords(topNegative_bi,\"Top 20 Negative Review Bigrams\",color=\"red\",axis=ax[1])"
   ]
  }
 ],
 "metadata": {
  "kernelspec": {
   "display_name": "Python 3",
   "language": "python",
   "name": "python3"
  },
  "language_info": {
   "codemirror_mode": {
    "name": "ipython",
    "version": 3
   },
   "file_extension": ".py",
   "mimetype": "text/x-python",
   "name": "python",
   "nbconvert_exporter": "python",
   "pygments_lexer": "ipython3",
   "version": "3.7.5"
  }
 },
 "nbformat": 4,
 "nbformat_minor": 2
}
