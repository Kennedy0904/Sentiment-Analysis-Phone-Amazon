{
 "cells": [
  {
   "cell_type": "code",
   "execution_count": 7,
   "metadata": {},
   "outputs": [
    {
     "ename": "SyntaxError",
     "evalue": "invalid syntax (<ipython-input-7-494d0f2973e9>, line 19)",
     "output_type": "error",
     "traceback": [
      "\u001b[1;36m  File \u001b[1;32m\"<ipython-input-7-494d0f2973e9>\"\u001b[1;36m, line \u001b[1;32m19\u001b[0m\n\u001b[1;33m    print(title),\u001b[0m\n\u001b[1;37m                ^\u001b[0m\n\u001b[1;31mSyntaxError\u001b[0m\u001b[1;31m:\u001b[0m invalid syntax\n"
     ]
    }
   ],
   "source": [
    "import string\n",
    "import scrapy\n",
    "from scrapy import Request\n",
    "\n",
    "class MangaBaseSpider(scrapy.Spider):\n",
    "    name = \"Manga\"\n",
    "    start_urls = ['https://myanimelist.net/manga.php']\n",
    "    def parse(self, response):\n",
    "        xp = \"//div[@id='horiznav_nav']//li/a/@href\"\n",
    "        return (Request(url, callback=self.parse_manga_list_page) for url in response.xpath(xp).extract())\n",
    "    def parse_manga_list_page(self, response):\n",
    "        for tr_sel in response.css('div.js-categories-seasonal tr ~ tr'):\n",
    "            yield {\n",
    "                \"title\":  tr_sel.css('a[id] strong::text').extract_first().strip(),\n",
    "                \"synopsis\": tr_sel.css(\"div.pt4::text\").extract_first(),\n",
    "                \"type_\": tr_sel.css('td:nth-child(3)::text').extract_first().strip(),\n",
    "                \"episodes\": tr_sel.css('td:nth-child(4)::text').extract_first().strip(), \n",
    "                \"rating\": tr_sel.css('td:nth-child(5)::text').extract_first().strip(),\n",
    "            }\n",
    "        next_urls = response.xpath(\"//div[@class='spaceit']//a/@href\").extract()\n",
    "        for next_url in next_urls:\n",
    "            yield Request(response.urljoin(next_url), callback=self.parse_anime_list_page)"
   ]
  },
  {
   "cell_type": "code",
   "execution_count": 3,
   "metadata": {},
   "outputs": [
    {
     "name": "stdout",
     "output_type": "stream",
     "text": [
      "Requirement already satisfied: scrapy in c:\\users\\forge-15 i7\\anaconda3\\lib\\site-packages (2.0.0)\n",
      "Requirement already satisfied: queuelib>=1.4.2 in c:\\users\\forge-15 i7\\anaconda3\\lib\\site-packages (from scrapy) (1.5.0)\n",
      "Requirement already satisfied: parsel>=1.5.0 in c:\\users\\forge-15 i7\\anaconda3\\lib\\site-packages (from scrapy) (1.5.2)\n",
      "Requirement already satisfied: cssselect>=0.9.1 in c:\\users\\forge-15 i7\\anaconda3\\lib\\site-packages (from scrapy) (1.1.0)\n",
      "Requirement already satisfied: zope.interface>=4.1.3 in c:\\users\\forge-15 i7\\anaconda3\\lib\\site-packages (from scrapy) (4.7.2)\n",
      "Requirement already satisfied: PyDispatcher>=2.0.5 in c:\\users\\forge-15 i7\\anaconda3\\lib\\site-packages (from scrapy) (2.0.5)\n",
      "Requirement already satisfied: pyOpenSSL>=16.2.0 in c:\\users\\forge-15 i7\\anaconda3\\lib\\site-packages (from scrapy) (19.1.0)\n",
      "Requirement already satisfied: protego>=0.1.15 in c:\\users\\forge-15 i7\\anaconda3\\lib\\site-packages (from scrapy) (0.1.16)\n",
      "Requirement already satisfied: w3lib>=1.17.0 in c:\\users\\forge-15 i7\\anaconda3\\lib\\site-packages (from scrapy) (1.21.0)\n",
      "Requirement already satisfied: lxml>=3.5.0 in c:\\users\\forge-15 i7\\anaconda3\\lib\\site-packages (from scrapy) (4.4.2)\n",
      "Requirement already satisfied: service-identity>=16.0.0 in c:\\users\\forge-15 i7\\anaconda3\\lib\\site-packages (from scrapy) (18.1.0)\n",
      "Requirement already satisfied: Twisted>=17.9.0 in c:\\users\\forge-15 i7\\anaconda3\\lib\\site-packages (from scrapy) (19.10.0)\n",
      "Requirement already satisfied: cryptography>=2.0 in c:\\users\\forge-15 i7\\anaconda3\\lib\\site-packages (from scrapy) (2.8)\n",
      "Requirement already satisfied: six>=1.5.2 in c:\\users\\forge-15 i7\\anaconda3\\lib\\site-packages (from parsel>=1.5.0->scrapy) (1.13.0)\n",
      "Requirement already satisfied: setuptools in c:\\users\\forge-15 i7\\anaconda3\\lib\\site-packages (from zope.interface>=4.1.3->scrapy) (42.0.2.post20191203)\n",
      "Requirement already satisfied: pyasn1 in c:\\users\\forge-15 i7\\anaconda3\\lib\\site-packages (from service-identity>=16.0.0->scrapy) (0.4.8)\n",
      "Requirement already satisfied: pyasn1-modules in c:\\users\\forge-15 i7\\anaconda3\\lib\\site-packages (from service-identity>=16.0.0->scrapy) (0.2.8)\n",
      "Requirement already satisfied: attrs>=16.0.0 in c:\\users\\forge-15 i7\\anaconda3\\lib\\site-packages (from service-identity>=16.0.0->scrapy) (19.3.0)\n",
      "Requirement already satisfied: incremental>=16.10.1 in c:\\users\\forge-15 i7\\anaconda3\\lib\\site-packages (from Twisted>=17.9.0->scrapy) (17.5.0)\n",
      "Requirement already satisfied: Automat>=0.3.0 in c:\\users\\forge-15 i7\\anaconda3\\lib\\site-packages (from Twisted>=17.9.0->scrapy) (20.2.0)\n",
      "Requirement already satisfied: constantly>=15.1 in c:\\users\\forge-15 i7\\anaconda3\\lib\\site-packages (from Twisted>=17.9.0->scrapy) (15.1.0)\n",
      "Requirement already satisfied: hyperlink>=17.1.1 in c:\\users\\forge-15 i7\\anaconda3\\lib\\site-packages (from Twisted>=17.9.0->scrapy) (19.0.0)\n",
      "Requirement already satisfied: PyHamcrest>=1.9.0 in c:\\users\\forge-15 i7\\anaconda3\\lib\\site-packages (from Twisted>=17.9.0->scrapy) (2.0.2)\n",
      "Requirement already satisfied: cffi!=1.11.3,>=1.8 in c:\\users\\forge-15 i7\\anaconda3\\lib\\site-packages (from cryptography>=2.0->scrapy) (1.13.2)\n",
      "Requirement already satisfied: idna>=2.5 in c:\\users\\forge-15 i7\\anaconda3\\lib\\site-packages (from hyperlink>=17.1.1->Twisted>=17.9.0->scrapy) (2.8)\n",
      "Requirement already satisfied: pycparser in c:\\users\\forge-15 i7\\anaconda3\\lib\\site-packages (from cffi!=1.11.3,>=1.8->cryptography>=2.0->scrapy) (2.19)\n"
     ]
    }
   ],
   "source": [
    "# ! pip install scrapy"
   ]
  }
 ],
 "metadata": {
  "kernelspec": {
   "display_name": "Python 3",
   "language": "python",
   "name": "python3"
  },
  "language_info": {
   "codemirror_mode": {
    "name": "ipython",
    "version": 3
   },
   "file_extension": ".py",
   "mimetype": "text/x-python",
   "name": "python",
   "nbconvert_exporter": "python",
   "pygments_lexer": "ipython3",
   "version": "3.7.5"
  }
 },
 "nbformat": 4,
 "nbformat_minor": 2
}
